{
 "cells": [
  {
   "cell_type": "code",
   "execution_count": 9,
   "metadata": {},
   "outputs": [],
   "source": [
    "import pandas as pd"
   ]
  },
  {
   "cell_type": "code",
   "execution_count": 10,
   "metadata": {},
   "outputs": [
    {
     "name": "stdout",
     "output_type": "stream",
     "text": [
      "      Rk               Player Pos  Age   Tm   G  GS    MP   FG   FGA  ...   \n",
      "0      1    Tariq Abdul-Wahad  SG   25  TOT  61  56  25.9  4.5  10.6  ...  \\\n",
      "1      1    Tariq Abdul-Wahad  SG   25  ORL  46  46  26.2  4.8  11.2  ...   \n",
      "2      1    Tariq Abdul-Wahad  SG   25  DEN  15  10  24.9  3.4   8.7  ...   \n",
      "3      2  Shareef Abdur-Rahim  SF   23  VAN  82  82  39.3  7.2  15.6  ...   \n",
      "4      3       Cory Alexander  PG   26  DEN  29   2  11.3  1.0   3.4  ...   \n",
      "..   ...                  ...  ..  ...  ...  ..  ..   ...  ...   ...  ...   \n",
      "491  436     Haywoode Workman  PG   34  MIL  23   1  10.8  1.0   2.7  ...   \n",
      "492  436     Haywoode Workman  PG   34  TOR  13   1   7.8  0.6   2.2  ...   \n",
      "493  437    Metta World Peace  SF   20  CHI  72  63  31.1  4.3  10.5  ...   \n",
      "494  438      Lorenzen Wright   C   24  ATL  75   0  16.1  2.4   4.8  ...   \n",
      "495  439            Tim Young   C   23  GSW  25   0   5.5  0.5   1.6  ...   \n",
      "\n",
      "     ORB  DRB   TRB  AST  STL  BLK  TOV   PF   PTS  Player-additional  \n",
      "0    1.7  3.1   4.8  1.6  1.0  0.5  1.7  2.4  11.4          abdulta01  \n",
      "1    1.7  3.5   5.2  1.6  1.2  0.3  1.9  2.5  12.2          abdulta01  \n",
      "2    1.6  1.9   3.5  1.7  0.4  0.8  1.3  2.1   8.9          abdulta01  \n",
      "3    2.7  7.4  10.1  3.3  1.1  1.1  3.0  3.0  20.3          abdursh01  \n",
      "4    0.3  1.2   1.4  2.0  0.8  0.1  1.0  1.3   2.8          alexaco01  \n",
      "..   ...  ...   ...  ...  ...  ...  ...  ...   ...                ...  \n",
      "491  0.0  0.7   0.7  1.9  0.5  0.0  0.6  1.0   2.9          workmha01  \n",
      "492  0.0  0.7   0.7  1.3  0.7  0.0  0.3  1.1   1.5          workmha01  \n",
      "493  0.9  3.4   4.3  2.8  1.7  0.5  2.3  2.2  12.0          artesro01  \n",
      "494  1.6  2.5   4.1  0.3  0.4  0.5  0.9  2.7   6.0          wrighlo02  \n",
      "495  0.5  0.9   1.4  0.2  0.1  0.0  0.4  0.7   2.2          youngti01  \n",
      "\n",
      "[496 rows x 31 columns]\n"
     ]
    }
   ],
   "source": [
    "with open(f'./stats/player_stats/players_stats_2000.csv', 'r', encoding=\"utf-8\") as file:\n",
    "    df = pd.read_csv(file)\n",
    "\n",
    "print(df)"
   ]
  },
  {
   "cell_type": "code",
   "execution_count": 11,
   "metadata": {},
   "outputs": [
    {
     "name": "stdout",
     "output_type": "stream",
     "text": [
      "                  Player  Age   Tm   G  GS    MP Player-additional\n",
      "0      Tariq Abdul-Wahad   25  TOT  61  56  25.9         abdulta01\n",
      "1      Tariq Abdul-Wahad   25  ORL  46  46  26.2         abdulta01\n",
      "2      Tariq Abdul-Wahad   25  DEN  15  10  24.9         abdulta01\n",
      "3    Shareef Abdur-Rahim   23  VAN  82  82  39.3         abdursh01\n",
      "4         Cory Alexander   26  DEN  29   2  11.3         alexaco01\n",
      "..                   ...  ...  ...  ..  ..   ...               ...\n",
      "491     Haywoode Workman   34  MIL  23   1  10.8         workmha01\n",
      "492     Haywoode Workman   34  TOR  13   1   7.8         workmha01\n",
      "493    Metta World Peace   20  CHI  72  63  31.1         artesro01\n",
      "494      Lorenzen Wright   24  ATL  75   0  16.1         wrighlo02\n",
      "495            Tim Young   23  GSW  25   0   5.5         youngti01\n",
      "\n",
      "[496 rows x 7 columns]\n"
     ]
    }
   ],
   "source": [
    "columns_to_drop = ['Rk', 'Pos', 'FG', 'FGA', 'FG%', '3P', '3PA', '3P%', '2P', '2PA', '2P%', 'eFG%', 'FT', 'FTA', 'FT%', 'ORB', 'DRB', 'TRB', 'AST', 'STL', 'BLK', 'TOV', 'PF', 'PTS']\n",
    "\n",
    "df = df.drop(columns_to_drop, axis=1)\n",
    "print(df)"
   ]
  },
  {
   "cell_type": "code",
   "execution_count": 12,
   "metadata": {},
   "outputs": [
    {
     "name": "stdout",
     "output_type": "stream",
     "text": [
      "                  Player  Age   Tm   G  GS    MP Player-additional\n",
      "0      Tariq Abdul-Wahad   25  TOT  61  56  25.9         abdulta01\n",
      "1    Shareef Abdur-Rahim   23  VAN  82  82  39.3         abdursh01\n",
      "2         Cory Alexander   26  DEN  29   2  11.3         alexaco01\n",
      "3             Ray Allen*   24  MIL  82  82  37.4         allenra02\n",
      "4           Rafer Alston   23  MIL  27   0  13.4         alstora01\n",
      "..                   ...  ...  ...  ..  ..   ...               ...\n",
      "434        David Wingate   36  NYK   7   0   4.6         wingada01\n",
      "435     Haywoode Workman   34  TOT  36   2   9.7         workmha01\n",
      "436    Metta World Peace   20  CHI  72  63  31.1         artesro01\n",
      "437      Lorenzen Wright   24  ATL  75   0  16.1         wrighlo02\n",
      "438            Tim Young   23  GSW  25   0   5.5         youngti01\n",
      "\n",
      "[439 rows x 7 columns]\n"
     ]
    }
   ],
   "source": [
    "filtered_df = df.drop_duplicates(subset='Player-additional', keep=\"first\")\n",
    "filtered_df.reset_index(drop=True, inplace=True)\n",
    "print(filtered_df)"
   ]
  }
 ],
 "metadata": {
  "kernelspec": {
   "display_name": "NBA",
   "language": "python",
   "name": "python3"
  },
  "language_info": {
   "codemirror_mode": {
    "name": "ipython",
    "version": 3
   },
   "file_extension": ".py",
   "mimetype": "text/x-python",
   "name": "python",
   "nbconvert_exporter": "python",
   "pygments_lexer": "ipython3",
   "version": "3.11.1"
  },
  "orig_nbformat": 4
 },
 "nbformat": 4,
 "nbformat_minor": 2
}
