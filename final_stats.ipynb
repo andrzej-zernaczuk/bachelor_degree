{
 "cells": [
  {
   "cell_type": "code",
   "execution_count": 7,
   "metadata": {},
   "outputs": [],
   "source": [
    "import pickle\n",
    "import pandas as pd"
   ]
  },
  {
   "cell_type": "code",
   "execution_count": 26,
   "metadata": {},
   "outputs": [
    {
     "name": "stdout",
     "output_type": "stream",
     "text": [
      "<_io.BufferedReader name='./data/transformed_data/teams_stats.pickle'>\n"
     ]
    }
   ],
   "source": [
    "with open('./data/transformed_data/teams_stats.pickle', 'rb') as team_stats:\n",
    "    teams_stats = pickle.load(team_stats)\n",
    "\n",
    "print(teams_stats)"
   ]
  },
  {
   "cell_type": "code",
   "execution_count": null,
   "metadata": {},
   "outputs": [],
   "source": [
    "with open('./data/transformed_data/players_stats.pickle', 'rb') as play_stats:\n",
    "    players_stats = pickle.load(play_stats)\n",
    "\n",
    "print(players_stats)"
   ]
  },
  {
   "cell_type": "code",
   "execution_count": null,
   "metadata": {},
   "outputs": [],
   "source": [
    "with open('./data/transformed_data/players_advanced_stats.pickle', 'rb') as play_advanced_stats:\n",
    "    players_advanced_stats = pickle.load(play_advanced_stats)\n",
    "\n",
    "print(players_advanced_stats)"
   ]
  },
  {
   "cell_type": "code",
   "execution_count": 11,
   "metadata": {},
   "outputs": [],
   "source": [
    "game_types = [\"playoffs\", \"leagues\"]\n",
    "#years = list(range(2001, 2023))\n",
    "years = list(range(2001, 2002))\n",
    "stats = {}\n",
    "df_columns = [\"ID\", \"age\", \"games_played\", \"games_started\", \"avg_minutes_played\", \"WS48\", \"team_successes\", \"defensive\", \"most_improved\", \"most_valuable\", \"rookie\", \"sixth_man\"]\n",
    "df_template = pd.DataFrame(columns=df_columns)"
   ]
  },
  {
   "cell_type": "code",
   "execution_count": 12,
   "metadata": {},
   "outputs": [],
   "source": [
    "for year in years:\n",
    "    stats[year] = df_template"
   ]
  },
  {
   "cell_type": "code",
   "execution_count": 17,
   "metadata": {},
   "outputs": [],
   "source": [
    "# GAMES PLAYED FOR EACH PLAYER\n",
    "for year in years:\n",
    "    player_list = set(players_stats[year][\"playoffs\"][\"ID\"].values.tolist() + players_stats[year][\"leagues\"][\"ID\"].values.tolist())\n",
    "    stats[year]['ID'] = [player for player in player_list]\n",
    "    stats[year] = stats[year].set_index(\"ID\")\n",
    "    for player_id in player_list:\n",
    "        games_played = 0\n",
    "        for game_type in game_types:\n",
    "            if player_id in player_list:\n",
    "                try:\n",
    "                    games_played += players_stats[year][game_type].query(f\"ID == '{player_id}'\")[\"G\"].iloc[0]\n",
    "                except:\n",
    "                    games_played += 0\n",
    "                \n",
    "            stats[year].loc[[f'{player_id}'], ['games_played']] = games_played"
   ]
  },
  {
   "cell_type": "code",
   "execution_count": 18,
   "metadata": {},
   "outputs": [],
   "source": [
    "# GAMES STARTED FOR EACH PLAYER\n",
    "for year in years:\n",
    "    player_list = set(players_stats[year][\"playoffs\"][\"ID\"].values.tolist() + players_stats[year][\"leagues\"][\"ID\"].values.tolist())\n",
    "    for player_id in player_list:\n",
    "        games_started = 0\n",
    "        for game_type in game_types:\n",
    "            if player_id in player_list:\n",
    "                try:\n",
    "                    games_started += players_stats[year][game_type].query(f\"ID == '{player_id}'\")[\"GS\"].iloc[0]\n",
    "                except:\n",
    "                    games_started += 0\n",
    "            \n",
    "            stats[year].loc[[f'{player_id}'], ['games_started']] = games_started"
   ]
  },
  {
   "cell_type": "code",
   "execution_count": 19,
   "metadata": {},
   "outputs": [],
   "source": [
    "# AVERAGE MINUTES PLAYED FOR EACH PLAYER\n",
    "for year in years:\n",
    "    player_list = set(players_stats[year][\"playoffs\"][\"ID\"].values.tolist() + players_stats[year][\"leagues\"][\"ID\"].values.tolist())\n",
    "    for player_id in player_list:\n",
    "        avg_minutes_played = 0\n",
    "        avg_minutes_played_x_games = 0\n",
    "        total_games = 0\n",
    "        minutes_played_per_game = 0\n",
    "        games_played = 0\n",
    "        for game_type in game_types:\n",
    "            if player_id in player_list:\n",
    "                try:\n",
    "                    minutes_played_per_game = players_stats[year][game_type].query(f\"ID == '{player_id}'\")[\"MP\"].iloc[0]\n",
    "                    games_played = players_stats[year][game_type].query(f\"ID == '{player_id}'\")[\"G\"].iloc[0]\n",
    "                except:\n",
    "                    minutes_played_per_game += 0\n",
    "                    games_played += 0\n",
    "                \n",
    "            avg_minutes_played_x_games += minutes_played_per_game * games_played\n",
    "            total_games += games_played\n",
    "            \n",
    "        if total_games != 0:\n",
    "            avg_minutes_played = round(avg_minutes_played_x_games/total_games, 2)\n",
    "        else:\n",
    "            avg_minutes_played = 0\n",
    "        \n",
    "        stats[year].loc[[f'{player_id}'], ['avg_minutes_played']] = avg_minutes_played"
   ]
  },
  {
   "cell_type": "code",
   "execution_count": 22,
   "metadata": {},
   "outputs": [],
   "source": [
    "# WIN SHARES PER 48 MINUTES FOR EACH PLAYER\n",
    "for year in years:\n",
    "    player_list = set(players_stats[year][\"playoffs\"][\"ID\"].values.tolist() + players_stats[year][\"leagues\"][\"ID\"].values.tolist())\n",
    "    for player_id in player_list:\n",
    "        minutes_played = 0\n",
    "        win_shares = 0\n",
    "        win_share_48 = 0\n",
    "        for game_type in game_types:\n",
    "            if player_id in player_list:\n",
    "                try:\n",
    "                    minutes_played = players_stats[year][game_type].query(f\"ID == '{player_id}'\")[\"MP\"].iloc[0]\n",
    "                    win_shares = players_advanced_stats[year][game_type].query(f\"ID == '{player_id}'\")[\"WS\"].iloc[0]\n",
    "                except:\n",
    "                    minutes_played += 0\n",
    "                    win_shares += 0\n",
    "            \n",
    "        if minutes_played != 0:\n",
    "            win_share_48 = round((win_shares/minutes_played) * 48, 2)\n",
    "        else:\n",
    "            win_share_48 = 0\n",
    "        \n",
    "        stats[year].loc[[f'{player_id}'], ['WS48']] = win_share_48"
   ]
  },
  {
   "cell_type": "code",
   "execution_count": 23,
   "metadata": {},
   "outputs": [
    {
     "name": "stdout",
     "output_type": "stream",
     "text": [
      "           age games_played games_started avg_minutes_played   WS48   \n",
      "ID                                                                    \n",
      "smithmi02  NaN           79            29               20.4   8.47  \\\n",
      "bryanko01  NaN           84            84              41.38  13.26   \n",
      "mutomdi01  NaN           98            98              36.42  11.27   \n",
      "carrch01   NaN           35             0                8.8   4.91   \n",
      "averywi01  NaN           57             0               8.32    0.0   \n",
      "...        ...          ...           ...                ...    ...   \n",
      "shawbr01   NaN           96            28               22.1   5.24   \n",
      "portech01  NaN           51            35               22.5   0.43   \n",
      "barryjo01  NaN           69             2              15.45   7.07   \n",
      "johnsav01  NaN           68            20              23.14   5.31   \n",
      "milesda01  NaN           81            21               26.3   5.48   \n",
      "\n",
      "          team_successes defensive most_improved most_valuable rookie   \n",
      "ID                                                                      \n",
      "smithmi02            NaN       NaN           NaN           NaN    NaN  \\\n",
      "bryanko01            NaN       NaN           NaN           NaN    NaN   \n",
      "mutomdi01            NaN       NaN           NaN           NaN    NaN   \n",
      "carrch01             NaN       NaN           NaN           NaN    NaN   \n",
      "averywi01            NaN       NaN           NaN           NaN    NaN   \n",
      "...                  ...       ...           ...           ...    ...   \n",
      "shawbr01             NaN       NaN           NaN           NaN    NaN   \n",
      "portech01            NaN       NaN           NaN           NaN    NaN   \n",
      "barryjo01            NaN       NaN           NaN           NaN    NaN   \n",
      "johnsav01            NaN       NaN           NaN           NaN    NaN   \n",
      "milesda01            NaN       NaN           NaN           NaN    NaN   \n",
      "\n",
      "          sixth_man  \n",
      "ID                   \n",
      "smithmi02       NaN  \n",
      "bryanko01       NaN  \n",
      "mutomdi01       NaN  \n",
      "carrch01        NaN  \n",
      "averywi01       NaN  \n",
      "...             ...  \n",
      "shawbr01        NaN  \n",
      "portech01       NaN  \n",
      "barryjo01       NaN  \n",
      "johnsav01       NaN  \n",
      "milesda01       NaN  \n",
      "\n",
      "[441 rows x 11 columns]\n"
     ]
    }
   ],
   "source": [
    "print(stats[2001])"
   ]
  },
  {
   "cell_type": "code",
   "execution_count": null,
   "metadata": {},
   "outputs": [],
   "source": []
  }
 ],
 "metadata": {
  "kernelspec": {
   "display_name": "NBA",
   "language": "python",
   "name": "python3"
  },
  "language_info": {
   "codemirror_mode": {
    "name": "ipython",
    "version": 3
   },
   "file_extension": ".py",
   "mimetype": "text/x-python",
   "name": "python",
   "nbconvert_exporter": "python",
   "pygments_lexer": "ipython3",
   "version": "3.11.1"
  },
  "orig_nbformat": 4
 },
 "nbformat": 4,
 "nbformat_minor": 2
}
