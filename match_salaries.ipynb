{
 "cells": [
  {
   "cell_type": "code",
   "execution_count": null,
   "metadata": {},
   "outputs": [],
   "source": [
    "import pickle\n",
    "import pandas as pd"
   ]
  },
  {
   "cell_type": "code",
   "execution_count": null,
   "metadata": {},
   "outputs": [],
   "source": [
    "with open('./data/final_stats.pickle', 'rb') as final_stats:\n",
    "    stats = pickle.load(final_stats)"
   ]
  },
  {
   "cell_type": "code",
   "execution_count": null,
   "metadata": {},
   "outputs": [],
   "source": [
    "stats[2001]"
   ]
  },
  {
   "cell_type": "code",
   "execution_count": null,
   "metadata": {},
   "outputs": [],
   "source": [
    "with open('./data/cleaned_data/players_stats.pickle', 'rb') as play_stats:\n",
    "    player_stats = pickle.load(play_stats)"
   ]
  },
  {
   "cell_type": "code",
   "execution_count": null,
   "metadata": {},
   "outputs": [],
   "source": [
    "player_stats[2001]"
   ]
  },
  {
   "cell_type": "code",
   "execution_count": 1,
   "metadata": {},
   "outputs": [],
   "source": [
    "import pandas as pd\n",
    "import pickle\n",
    "from unidecode import unidecode"
   ]
  },
  {
   "cell_type": "code",
   "execution_count": 2,
   "metadata": {},
   "outputs": [],
   "source": [
    "years = list(range(2001, 2024))"
   ]
  },
  {
   "cell_type": "code",
   "execution_count": 3,
   "metadata": {},
   "outputs": [],
   "source": [
    "distinct_players = pd.read_csv(\"./data/cleaned_data/distinct_players.csv\", encoding='utf-8')"
   ]
  },
  {
   "cell_type": "code",
   "execution_count": 4,
   "metadata": {},
   "outputs": [],
   "source": [
    "salary_cap = pd.read_csv('./data/cleaned_data/salary_cap.csv', encoding='utf-8')"
   ]
  },
  {
   "cell_type": "code",
   "execution_count": null,
   "metadata": {},
   "outputs": [],
   "source": [
    "distinct_players_not_accented = distinct_players.copy()\n",
    "distinct_players_not_accented['player'] = distinct_players['player'].apply(lambda x: unidecode(x))"
   ]
  },
  {
   "cell_type": "code",
   "execution_count": null,
   "metadata": {},
   "outputs": [],
   "source": [
    "with open('./data/cleaned_data/players_stats.pickle', 'rb') as play_stats:\n",
    "    players_stats = pickle.load(play_stats)"
   ]
  },
  {
   "cell_type": "code",
   "execution_count": null,
   "metadata": {},
   "outputs": [],
   "source": [
    "players_not_found = []\n",
    "for year in years:\n",
    "    player_list = set(players_stats[year][\"playoffs\"][\"ID\"].values.tolist() + players_stats[year][\"leagues\"][\"ID\"].values.tolist())\n",
    "\n",
    "    with open(f'./data/raw_data/players_salaries/players_salaries_{year}.csv', 'r', encoding=\"UTF-8\") as file:\n",
    "        players_salaries = pd.read_csv(file, delimiter=';')\n",
    "\n",
    "    players_salaries.rename(columns = {'PLAYER': 'ID', f'{year-1}/{str(year)[2:]}': 'salary'}, inplace = True)\n",
    "    players_salaries['salary'] = players_salaries['salary'].apply(lambda x: int(str(x)[1:].replace(\",\", \"\")))\n",
    "    players_salaries\n",
    "\n",
    "    for index, row in players_salaries.iterrows():\n",
    "        row_id = row['ID']\n",
    "        try:\n",
    "            players_salaries.loc[index, 'ID'] = distinct_players_not_accented.query(f'player == \"{row_id}\"')[\"ID\"].iloc[0]\n",
    "        except:\n",
    "            players_not_found.append(str(players_salaries.loc[index, 'ID']))\n",
    "\n",
    "players_not_found"
   ]
  },
  {
   "cell_type": "code",
   "execution_count": null,
   "metadata": {},
   "outputs": [],
   "source": [
    "with open(f'./data/raw_data/players_salaries/players_salaries_{year}.csv', 'r', encoding=\"UTF-8\") as file:\n",
    "        players_salaries = pd.read_csv(file, delimiter=';')"
   ]
  },
  {
   "cell_type": "code",
   "execution_count": null,
   "metadata": {},
   "outputs": [],
   "source": [
    "players_salaries.rename(columns = {'PLAYER': 'ID', f'{year-1}/{str(year)[2:]}': 'salary'}, inplace = True)\n",
    "players_salaries['salary'] = players_salaries['salary'].apply(lambda x: int(str(x)[1:].replace(\",\", \"\")))\n",
    "players_salaries"
   ]
  },
  {
   "cell_type": "code",
   "execution_count": null,
   "metadata": {},
   "outputs": [],
   "source": [
    "for index, row in players_salaries.iterrows():\n",
    "    row_id = row['ID']\n",
    "    try:\n",
    "        players_salaries.loc[index, 'ID'] = distinct_players_not_accented.query(f'player == \"{row_id}\"')[\"ID\"].iloc[0]\n",
    "    except:\n",
    "        print(players_salaries.loc[index, 'ID'])"
   ]
  },
  {
   "cell_type": "code",
   "execution_count": null,
   "metadata": {},
   "outputs": [],
   "source": [
    "for player_id in player_list:    \n",
    "    try:\n",
    "        salary = players_salaries.query(f\"ID == '{player_id}'\")[\"salary\"].iloc[0]\n",
    "        cap = salary_cap.query(f\"year == {year}\")[\"salary_cap\"].iloc[0]\n",
    "        salary_perc = round(salary / cap, 2)\n",
    "    except:\n",
    "        print(f\"##### {player_id} | {salary_perc} #####\")"
   ]
  },
  {
   "cell_type": "code",
   "execution_count": null,
   "metadata": {},
   "outputs": [],
   "source": []
  }
 ],
 "metadata": {
  "kernelspec": {
   "display_name": "NBA",
   "language": "python",
   "name": "python3"
  },
  "language_info": {
   "codemirror_mode": {
    "name": "ipython",
    "version": 3
   },
   "file_extension": ".py",
   "mimetype": "text/x-python",
   "name": "python",
   "nbconvert_exporter": "python",
   "pygments_lexer": "ipython3",
   "version": "3.11.1"
  },
  "orig_nbformat": 4
 },
 "nbformat": 4,
 "nbformat_minor": 2
}
