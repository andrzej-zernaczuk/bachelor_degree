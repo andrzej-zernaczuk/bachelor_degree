{
 "cells": [
  {
   "cell_type": "code",
   "execution_count": 1,
   "metadata": {},
   "outputs": [],
   "source": [
    "from clean_data import clean_stats, unique_players, consolidate_personal_awards"
   ]
  },
  {
   "cell_type": "code",
   "execution_count": 2,
   "metadata": {},
   "outputs": [],
   "source": [
    "years = list(range(2001, 2023))\n",
    "game_types = [\"playoffs\", \"leagues\"]\n",
    "columns_to_drop = ['Rk', 'Pos', 'FG', 'FGA', 'FG%', '3P',\n",
    "                   '3PA', '3P%', '2P', '2PA', '2P%', 'eFG%',\n",
    "                   'FT', 'FTA', 'FT%', 'ORB', 'DRB', 'TRB',\n",
    "                   'AST', 'STL', 'BLK', 'TOV', 'PF', 'PTS']\n",
    "distinct_players = []\n",
    "players_stats = {}"
   ]
  },
  {
   "cell_type": "code",
   "execution_count": 3,
   "metadata": {},
   "outputs": [],
   "source": [
    "personal_awards = consolidate_personal_awards()"
   ]
  },
  {
   "cell_type": "code",
   "execution_count": 4,
   "metadata": {},
   "outputs": [],
   "source": [
    "for year in years:\n",
    "    distinct_players.extend(unique_players(year))\n",
    "    players_stats[year] = {}\n",
    "    for game_type in game_types:\n",
    "        players_stats[year][game_type] = clean_stats(year, game_type, columns_to_drop)\n"
   ]
  },
  {
   "cell_type": "code",
   "execution_count": 5,
   "metadata": {},
   "outputs": [],
   "source": [
    "distinct_players = set(distinct_players)"
   ]
  },
  {
   "cell_type": "code",
   "execution_count": 13,
   "metadata": {},
   "outputs": [
    {
     "name": "stdout",
     "output_type": "stream",
     "text": [
      "              Player  Age   Tm   G  GS    MP         ID\n",
      "0         Ray Allen*   25  MIL  18  18  42.7  allenra02\n",
      "1       Rafer Alston   24  MIL   5   0   1.6  alstora01\n",
      "2       John Amaechi   30  ORL   4   0   7.3  amaecjo01\n",
      "3     Derek Anderson   26  SAS   7   7  27.7  anderde01\n",
      "4       Greg Anthony   33  POR   2   0   8.5  anthogr01\n",
      "..               ...  ...  ...  ..  ..   ...        ...\n",
      "185   Jason Williams   25  SAC   8   8  23.9  willija02\n",
      "186  Jerome Williams   27  TOR  11   0  14.9  willije01\n",
      "187   Monty Williams   29  ORL   3   0   4.7  willimo01\n",
      "188   Scott Williams   32  MIL  17  17  22.2  willisc01\n",
      "189      Wang Zhizhi   23  DAL   5   0   4.6  zhizhwa01\n",
      "\n",
      "[190 rows x 7 columns]\n",
      "                  Player  Age   Tm   G  GS    MP         ID\n",
      "0     Mahmoud Abdul-Rauf   31  VAN  41   0  11.9  abdulma02\n",
      "1      Tariq Abdul-Wahad   26  DEN  29  12  14.5  abdulta01\n",
      "2    Shareef Abdur-Rahim   24  VAN  81  81  40.0  abdursh01\n",
      "3         Cory Alexander   27  ORL  26   0   8.7  alexaco01\n",
      "4     Courtney Alexander   23  TOT  65  24  21.3  alexaco02\n",
      "..                   ...  ...  ...  ..  ..   ...        ...\n",
      "436        David Wingate   37  SEA   1   0   9.0  wingada01\n",
      "437     Rubén Wolkowyski   27  SEA  34   1   9.0  wolkoru01\n",
      "438    Metta World Peace   21  CHI  76  74  31.1  artesro01\n",
      "439      Lorenzen Wright   25  ATL  71  46  28.0  wrighlo02\n",
      "440          Wang Zhizhi   23  DAL   5   0   7.6  zhizhwa01\n",
      "\n",
      "[441 rows x 7 columns]\n"
     ]
    }
   ],
   "source": [
    "print(players_stats[2001][\"playoffs\"])\n",
    "print(players_stats[2001][\"leagues\"])"
   ]
  },
  {
   "cell_type": "code",
   "execution_count": 20,
   "metadata": {},
   "outputs": [
    {
     "name": "stdout",
     "output_type": "stream",
     "text": [
      "        Player  Age   Tm   G  GS    MP         ID\n",
      "393  Žan Tabak   30  IND  55  14  14.1  tabakza01\n",
      "        Player  Age   Tm  G  GS   MP         ID\n",
      "172  Žan Tabak   30  IND  2   2  5.0  tabakza01\n"
     ]
    }
   ],
   "source": [
    "print(players_stats[2001][\"leagues\"].query(\"ID == 'tabakza01'\"))\n",
    "print(players_stats[2001][\"playoffs\"].query(\"ID == 'tabakza01'\"))"
   ]
  },
  {
   "cell_type": "code",
   "execution_count": null,
   "metadata": {},
   "outputs": [],
   "source": [
    "# player_id = \"allenra02\"\n",
    "# print(players_stats[2001][\"playoffs\"][\"ID\"][0])\n",
    "# games_playoffs = players_stats[2001][\"playoffs\"].query(f\"ID == '{player_id}'\")[\"G\"].iloc[0]\n",
    "# games_leagues = players_stats[2001][\"leagues\"].query(f\"ID == '{player_id}'\")[\"G\"].iloc[0]\n",
    "\n",
    "# print(games_playoffs + games_leagues)"
   ]
  },
  {
   "cell_type": "code",
   "execution_count": null,
   "metadata": {},
   "outputs": [],
   "source": [
    "# player_list = set(players_stats[2001][\"playoffs\"][\"ID\"].values.tolist() + players_stats[2001][\"leagues\"][\"ID\"].values.tolist())\n",
    "# print(player_list)"
   ]
  },
  {
   "cell_type": "code",
   "execution_count": 17,
   "metadata": {},
   "outputs": [],
   "source": [
    "years = [2001]\n",
    "players_stats_games = {}\n",
    "for year in years:\n",
    "    players_stats_games[year] = {}\n",
    "    player_list = set(players_stats[2001][\"playoffs\"][\"ID\"].values.tolist() + players_stats[2001][\"leagues\"][\"ID\"].values.tolist())\n",
    "    for player_id in player_list:\n",
    "        games_played = 0\n",
    "        for game_type in game_types:\n",
    "            if player_id in player_list:\n",
    "                try:\n",
    "                    games_played += players_stats[year][game_type].query(f\"ID == '{player_id}'\")[\"G\"].iloc[0]\n",
    "                except:\n",
    "                    games_played += 0\n",
    "            \n",
    "        players_stats_games[year][player_id] = games_played\n"
   ]
  },
  {
   "cell_type": "code",
   "execution_count": 18,
   "metadata": {},
   "outputs": [
    {
     "name": "stdout",
     "output_type": "stream",
     "text": [
      "{'roberte01': 3, 'ostergr01': 86, 'longllu01': 25, 'ewingpa01': 79, 'olowomi01': 82, 'keefead01': 67, 'jacobsa01': 14, 'houseed01': 53, 'masonde01': 78, 'elamikh01': 50, 'vaughja01': 87, 'ellispe01': 9, 'perryel01': 51, 'blaylmo01': 69, 'davisda01': 83, 'smithto02': 6, 'colemde01': 39, 'jonesed02': 66, 'hamda01': 43, 'tabakza01': 57, 'stricro02': 56, 'luety01': 53, 'burresc01': 6, 'richaqu01': 76, 'doleami01': 81, 'johnsde03': 78, 'harrilu01': 73, 'fishede01': 36, 'foxri01': 98, 'portete01': 93, 'blounma01': 64, 'patteru01': 76, 'boguemu01': 3, 'fortsda01': 6, 'willier01': 81, 'willico02': 69, 'turkohe01': 82, 'wolkoru01': 34, 'daniean01': 92, 'jacksst02': 77, 'postela01': 26, 'nesbyty01': 62, 'onealsh01': 90, 'mihmch01': 59, 'moisoje01': 24, 'owensbi01': 45, 'portech01': 51, 'robinja03': 6, 'feickja01': 6, 'barroda01': 60, 'augmost01': 68, 'sanchpe01': 29, 'knightr01': 46, 'armstda01': 79, 'lewisqu01': 35, 'stronde01': 28, 'trentga01': 33, 'piatker01': 81, 'mcilvji01': 18, 'ekeziob01': 33, 'nashst01': 80, 'garnech01': 8, 'parksch02': 65, 'ilgauzy01': 24, 'schrede01': 29, 'johnsav01': 68, 'skinnbr01': 39, 'rogerca01': 39, 'olajuha01': 58, 'mcleoro01': 35, 'divacvl01': 89, 'thomake01': 74, 'anderde01': 89, 'persowe01': 44, 'robinla01': 34, 'vanexni01': 71, 'crawfja01': 61, 'fostegr01': 63, 'harvean01': 14, 'besttr01': 81, 'stackje01': 80, 'brownde01': 10, 'nowitdi01': 92, 'barkler01': 8, 'garripa01': 80, 'iversal01': 93, 'popema01': 69, 'cardibr01': 15, 'hamilze01': 3, 'josepga01': 4, 'cebalce01': 43, 'willimo01': 85, 'brunsri01': 24, 'bullama01': 61, 'griffad01': 44, 'cummivo01': 66, 'thomaku01': 82, 'mitchsa01': 86, 'guglito01': 61, 'hawkihe01': 65, 'kempsh01': 68, 'davisri01': 7, 'bowmair01': 3, 'guytoaj01': 33, 'penbemi01': 53, 'hudsotr01': 79, 'hunteli01': 100, 'kerrst01': 64, 'martike01': 68, 'willial02': 94, 'norrimo01': 82, 'perduwi01': 16, 'eisleho01': 91, 'dickemi01': 70, 'garceru01': 13, 'hardati01': 79, 'williwa02': 72, 'outlabo01': 84, 'mashbja01': 86, 'onealje01': 85, 'stoudda01': 85, 'hillty01': 99, 'marshdo01': 86, 'wrighlo02': 71, 'marbust01': 67, 'mannida01': 87, 'ricegl01': 80, 'millebr01': 57, 'dayto01': 31, 'majerda01': 56, 'petermo01': 88, 'dampier01': 43, 'smithja01': 9, 'swiftst01': 80, 'stewami01': 28, 'curryde01': 83, 'crawfch01': 47, 'peelean01': 79, 'hoibefr01': 74, 'recasel01': 45, 'kiddja01': 81, 'grantga01': 4, 'voskuja01': 16, 'smithjo02': 69, 'jonesda01': 71, 'willish01': 69, 'willije01': 70, 'hamilri01': 78, 'millemi01': 86, 'mcclida01': 6, 'willija02': 85, 'davisba01': 92, 'kukocto01': 65, 'mooremi01': 81, 'nailole01': 42, 'malonka01': 86, 'alexaco02': 65, 'sprewla01': 82, 'garrede01': 73, 'boykiea01': 10, 'blounco01': 68, 'hardaan01': 4, 'mccloge01': 76, 'hillgr01': 4, 'oaklech01': 90, 'reevebr01': 75, 'hendeal01': 73, 'knighbr01': 53, 'glovedi01': 57, 'jamisan01': 82, 'fosteje01': 75, 'thorpot01': 57, 'packro01': 74, 'polynol01': 86, 'barryjo01': 69, 'averywi01': 57, 'harprma01': 56, 'campbel01': 88, 'gilled01': 8, 'williaa01': 82, 'chrisdo01': 89, 'thomaja01': 5, 'declean01': 71, 'carrch01': 35, 'allenra02': 100, 'potapvi01': 82, 'jacksma01': 88, 'profila01': 35, 'magloja01': 84, 'battito01': 40, 'bryanko01': 84, 'wellsbo01': 75, 'stithbr01': 78, 'corbity01': 15, 'masonan01': 83, 'delkto01': 86, 'longar01': 9, 'georgde01': 66, 'richmmi01': 37, 'anderni01': 21, 'abdulma02': 41, 'buforro01': 62, 'clarkke01': 92, 'pollasc01': 85, 'fulleto02': 10, 'moblecu01': 79, 'pricebr01': 6, 'robingl01': 94, 'jacksbo01': 87, 'foylead01': 58, 'boothca01': 65, 'goodrst01': 12, 'hartja01': 1, 'hendece02': 55, 'cheanca01': 9, 'reiddo01': 68, 'delnevi01': 68, 'howarju01': 91, 'doolike01': 76, 'childch01': 89, 'catoke01': 35, 'langdtr01': 65, 'lenarvo01': 80, 'bowenry01': 57, 'amaecjo01': 86, 'walkean02': 81, 'edneyty01': 26, 'colesbi01': 47, 'eliema01': 72, 'surabo01': 53, 'ruffimi01': 45, 'whiteja01': 68, 'scottsh01': 34, 'benoida01': 53, 'davisem01': 62, 'pankoan01': 1, 'samakso01': 34, 'brownra02': 54, 'robined01': 77, 'stricer01': 50, 'oyedeol01': 30, 'harpero01': 53, 'stockjo01': 87, 'anthogr01': 60, 'ferryda01': 93, 'ndiayma02': 3, 'jacksja01': 16, 'smithst01': 84, 'newmajo01': 82, 'mckieaa01': 99, 'mcphepa01': 55, 'smithmi03': 17, 'montrer01': 59, 'smithmi02': 79, 'davidko01': 27, 'stevede01': 41, 'bibbymi01': 82, 'houstal01': 83, 'tsakaja01': 61, 'cleavma01': 78, 'sundobr01': 11, 'ketnela01': 3, 'mccoyje01': 70, 'garneke01': 85, 'willisc01': 83, 'stepavl01': 29, 'atkinch01': 81, 'maggeco01': 69, 'collija02': 23, 'overtdo01': 21, 'mohamna01': 58, 'curlebi01': 20, 'alstora01': 42, 'douglsh01': 59, 'milesda01': 81, 'jacksji01': 56, 'davishu01': 66, 'stojape01': 83, 'millere01': 85, 'daviste01': 19, 'gatlich01': 74, 'stricma01': 55, 'tayloma01': 69, 'bohanet01': 6, 'malonma01': 55, 'bakervi01': 76, 'horryro01': 95, 'billuch01': 80, 'ratlith01': 50, 'tarladr01': 43, 'wingada01': 1, 'macledo01': 8, 'austiis01': 52, 'geigema01': 47, 'madsema01': 83, 'bagarda01': 35, 'goldwan01': 20, 'artesro01': 76, 'croshau01': 85, 'abdursh01': 81, 'francst01': 80, 'bendejo01': 60, 'vaughlo01': 51, 'millean02': 82, 'benjaco01': 65, 'robinja02': 6, 'przybjo01': 34, 'hawkimi01': 10, 'robinda01': 93, 'cassesa01': 94, 'wardch01': 66, 'causwdu01': 32, 'andersh01': 82, 'mutomdi01': 98, 'mullich01': 20, 'colsose01': 13, 'newblir01': 27, 'millste01': 14, 'mcinnje01': 81, 'padgesc01': 27, 'kerseje01': 22, 'eschmev01': 74, 'mcgratr01': 81, 'rideris01': 67, 'terryja01': 82, 'piercpa01': 82, 'pippesc01': 67, 'spencfe01': 20, 'bryanma01': 22, 'grantbr01': 85, 'hughela01': 50, 'nestera01': 77, 'brownch01': 26, 'grantho01': 93, 'vanhoke01': 49, 'mournal01': 16, 'slatere01': 59, 'dialde01': 33, 'cartean01': 75, 'wallajo01': 40, 'starkjo01': 78, 'reidjr01': 6, 'szczewa02': 86, 'mottoha01': 73, 'johnsla02': 65, 'barrybr01': 67, 'rosema01': 70, 'rogerro01': 86, 'bradlsh01': 92, 'alexaco01': 26, 'jamesti01': 30, 'lewisra02': 78, 'greenac01': 85, 'hammoto01': 7, 'harrial01': 81, 'brandel01': 74, 'brandte01': 82, 'santida01': 55, 'westdo01': 15, 'russebr01': 83, 'cambyma01': 67, 'millsch01': 15, 'murrala01': 78, 'currymi01': 68, 'ellisla01': 86, 'kingge02': 45, 'mercero01': 61, 'walkesa01': 73, 'whitnch01': 59, 'reddmi01': 6, 'cokerjo01': 6, 'edwarke01': 46, 'martida01': 33, 'langhda01': 33, 'paytoga01': 79, 'odomla01': 76, 'webbech01': 78, 'roseja01': 76, 'maccuto01': 81, 'najered01': 47, 'anderke01': 33, 'ollieke01': 93, 'mccarwa01': 60, 'poseyja01': 82, 'fundela01': 62, 'mariosh01': 83, 'zhizhwa01': 10, 'livinra01': 2, 'crottjo01': 35, 'perkisa01': 67, 'shawbr01': 96, 'harvedo01': 18, 'masseto01': 52, 'sabonar01': 64, 'medvest01': 7, 'buechju01': 57, 'bowenbr01': 85, 'thomati01': 94, 'willike02': 78, 'fizerma01': 72, 'dudlech02': 56, 'vanteda01': 22, 'caffeja01': 88, 'mcdyean01': 70, 'harriot01': 79, 'lafrera01': 78, 'cartevi01': 87, 'gillke01': 31, 'robincl02': 86, 'jacksma02': 48, 'johnsan02': 53, 'bowdlca01': 44, 'jonespo01': 45, 'abdulta01': 29, 'rooksse01': 82, 'longgr01': 66, 'lynchge01': 92, 'wesleda01': 92, 'jonesju01': 88, 'bellra01': 20, 'brownpj01': 90, 'buckngr01': 42, 'drewbr01': 48, 'elliose01': 64, 'wallabe01': 80, 'mckeyde01': 70, 'finlemi01': 92, 'duncati01': 95, 'johnser02': 100, 'lopezfe01': 74, 'murratr01': 53, 'davisan01': 90, 'laettch01': 78, 'millean01': 4, 'palacmi01': 58, 'maxweve01': 47, 'traylro01': 70, 'weathcl01': 82, 'snower01': 73, 'herrech01': 25, 'wallara01': 80}\n"
     ]
    }
   ],
   "source": [
    "print(players_stats_games[2001])"
   ]
  },
  {
   "cell_type": "code",
   "execution_count": 21,
   "metadata": {},
   "outputs": [],
   "source": [
    "years = [2001]\n",
    "players_stats_games_started = {}\n",
    "for year in years:\n",
    "    players_stats_games_started[year] = {}\n",
    "    player_list = set(players_stats[2001][\"playoffs\"][\"ID\"].values.tolist() + players_stats[2001][\"leagues\"][\"ID\"].values.tolist())\n",
    "    for player_id in player_list:\n",
    "        games_started = 0\n",
    "        for game_type in game_types:\n",
    "            if player_id in player_list:\n",
    "                try:\n",
    "                    games_started += players_stats[year][game_type].query(f\"ID == '{player_id}'\")[\"GS\"].iloc[0]\n",
    "                except:\n",
    "                    games_started += 0\n",
    "            \n",
    "        players_stats_games_started[year][player_id] = games_started"
   ]
  },
  {
   "cell_type": "code",
   "execution_count": 22,
   "metadata": {},
   "outputs": [
    {
     "name": "stdout",
     "output_type": "stream",
     "text": [
      "{'roberte01': 0, 'ostergr01': 3, 'longllu01': 2, 'ewingpa01': 79, 'olowomi01': 82, 'keefead01': 13, 'jacobsa01': 0, 'houseed01': 0, 'masonde01': 14, 'elamikh01': 14, 'vaughja01': 0, 'ellispe01': 0, 'perryel01': 6, 'blaylmo01': 59, 'davisda01': 43, 'smithto02': 0, 'colemde01': 3, 'jonesed02': 61, 'hamda01': 19, 'tabakza01': 16, 'stricro02': 28, 'luety01': 1, 'burresc01': 0, 'richaqu01': 28, 'doleami01': 21, 'johnsde03': 21, 'harrilu01': 50, 'fishede01': 36, 'foxri01': 93, 'portete01': 55, 'blounma01': 50, 'patteru01': 22, 'boguemu01': 0, 'fortsda01': 6, 'willier01': 11, 'willico02': 40, 'turkohe01': 7, 'wolkoru01': 1, 'daniean01': 31, 'jacksst02': 40, 'postela01': 0, 'nesbyty01': 34, 'onealsh01': 90, 'mihmch01': 43, 'moisoje01': 0, 'owensbi01': 14, 'portech01': 35, 'robinja03': 0, 'feickja01': 0, 'barroda01': 0, 'augmost01': 23, 'sanchpe01': 0, 'knightr01': 0, 'armstda01': 79, 'lewisqu01': 2, 'stronde01': 8, 'trentga01': 4, 'piatker01': 40, 'mcilvji01': 3, 'ekeziob01': 0, 'nashst01': 80, 'garnech01': 0, 'parksch02': 31, 'ilgauzy01': 24, 'schrede01': 0, 'johnsav01': 20, 'skinnbr01': 23, 'rogerca01': 0, 'olajuha01': 55, 'mcleoro01': 25, 'divacvl01': 89, 'thomake01': 21, 'anderde01': 89, 'persowe01': 22, 'robinla01': 1, 'vanexni01': 70, 'crawfja01': 8, 'fostegr01': 8, 'harvean01': 0, 'besttr01': 25, 'stackje01': 80, 'brownde01': 0, 'nowitdi01': 92, 'barkler01': 0, 'garripa01': 1, 'iversal01': 93, 'popema01': 48, 'cardibr01': 0, 'hamilze01': 0, 'josepga01': 0, 'cebalce01': 0, 'willimo01': 0, 'brunsri01': 0, 'bullama01': 5, 'griffad01': 0, 'cummivo01': 11, 'thomaku01': 34, 'mitchsa01': 4, 'guglito01': 2, 'hawkihe01': 0, 'kempsh01': 3, 'davisri01': 0, 'bowmair01': 0, 'guytoaj01': 8, 'penbemi01': 0, 'hudsotr01': 7, 'hunteli01': 5, 'kerrst01': 1, 'martike01': 68, 'willial02': 46, 'norrimo01': 6, 'perduwi01': 0, 'eisleho01': 40, 'dickemi01': 69, 'garceru01': 0, 'hardati01': 79, 'williwa02': 31, 'outlabo01': 73, 'mashbja01': 86, 'onealje01': 84, 'stoudda01': 85, 'hillty01': 98, 'marshdo01': 54, 'wrighlo02': 46, 'marbust01': 67, 'mannida01': 0, 'ricegl01': 25, 'millebr01': 45, 'dayto01': 0, 'majerda01': 19, 'petermo01': 52, 'dampier01': 26, 'smithja01': 0, 'swiftst01': 6, 'stewami01': 0, 'curryde01': 1, 'crawfch01': 22, 'peelean01': 45, 'hoibefr01': 37, 'recasel01': 0, 'kiddja01': 80, 'grantga01': 0, 'voskuja01': 2, 'smithjo02': 59, 'jonesda01': 10, 'willish01': 6, 'willije01': 2, 'hamilri01': 42, 'millemi01': 66, 'mcclida01': 1, 'willija02': 85, 'davisba01': 92, 'kukocto01': 19, 'mooremi01': 2, 'nailole01': 0, 'malonka01': 86, 'alexaco02': 24, 'sprewla01': 82, 'garrede01': 23, 'boykiea01': 0, 'blounco01': 6, 'hardaan01': 4, 'mccloge01': 8, 'hillgr01': 4, 'oaklech01': 89, 'reevebr01': 48, 'hendeal01': 42, 'knighbr01': 43, 'glovedi01': 7, 'jamisan01': 82, 'fosteje01': 11, 'thorpot01': 4, 'packro01': 11, 'polynol01': 84, 'barryjo01': 2, 'averywi01': 0, 'harprma01': 55, 'campbel01': 88, 'gilled01': 0, 'williaa01': 25, 'chrisdo01': 89, 'thomaja01': 0, 'declean01': 55, 'carrch01': 0, 'allenra02': 100, 'potapvi01': 7, 'jacksma01': 87, 'profila01': 12, 'magloja01': 0, 'battito01': 25, 'bryanko01': 84, 'wellsbo01': 46, 'stithbr01': 74, 'corbity01': 1, 'masonan01': 83, 'delkto01': 11, 'longar01': 0, 'georgde01': 1, 'richmmi01': 30, 'anderni01': 0, 'abdulma02': 0, 'buforro01': 0, 'clarkke01': 3, 'pollasc01': 8, 'fulleto02': 0, 'moblecu01': 49, 'pricebr01': 0, 'robingl01': 92, 'jacksbo01': 7, 'foylead01': 37, 'boothca01': 29, 'goodrst01': 0, 'hartja01': 0, 'hendece02': 10, 'cheanca01': 5, 'reiddo01': 7, 'delnevi01': 1, 'howarju01': 91, 'doolike01': 1, 'childch01': 14, 'catoke01': 13, 'langdtr01': 5, 'lenarvo01': 58, 'bowenry01': 0, 'amaecjo01': 36, 'walkean02': 81, 'edneyty01': 0, 'colesbi01': 0, 'eliema01': 71, 'surabo01': 42, 'ruffimi01': 16, 'whiteja01': 56, 'scottsh01': 1, 'benoida01': 2, 'davisem01': 39, 'pankoan01': 0, 'samakso01': 0, 'brownra02': 35, 'robined01': 6, 'stricer01': 0, 'oyedeol01': 1, 'harpero01': 46, 'stockjo01': 87, 'anthogr01': 0, 'ferryda01': 40, 'ndiayma02': 0, 'jacksja01': 0, 'smithst01': 39, 'newmajo01': 17, 'mckieaa01': 49, 'mcphepa01': 0, 'smithmi03': 0, 'montrer01': 21, 'smithmi02': 29, 'davidko01': 0, 'stevede01': 2, 'bibbymi01': 82, 'houstal01': 83, 'tsakaja01': 43, 'cleavma01': 8, 'sundobr01': 4, 'ketnela01': 0, 'mccoyje01': 44, 'garneke01': 85, 'willisc01': 48, 'stepavl01': 0, 'atkinch01': 75, 'maggeco01': 9, 'collija02': 0, 'overtdo01': 10, 'mohamna01': 22, 'curlebi01': 2, 'alstora01': 2, 'douglsh01': 7, 'milesda01': 21, 'jacksji01': 40, 'davishu01': 18, 'stojape01': 83, 'millere01': 85, 'daviste01': 1, 'gatlich01': 6, 'stricma01': 2, 'tayloma01': 69, 'bohanet01': 0, 'malonma01': 27, 'bakervi01': 27, 'horryro01': 1, 'billuch01': 33, 'ratlith01': 50, 'tarladr01': 12, 'wingada01': 0, 'macledo01': 1, 'austiis01': 16, 'geigema01': 4, 'madsema01': 3, 'bagarda01': 0, 'goldwan01': 0, 'artesro01': 74, 'croshau01': 23, 'abdursh01': 81, 'francst01': 79, 'bendejo01': 7, 'vaughlo01': 1, 'millean02': 82, 'benjaco01': 5, 'robinja02': 0, 'przybjo01': 13, 'hawkimi01': 0, 'robinda01': 93, 'cassesa01': 93, 'wardch01': 33, 'causwdu01': 14, 'andersh01': 82, 'mutomdi01': 98, 'mullich01': 8, 'colsose01': 0, 'newblir01': 6, 'millste01': 0, 'mcinnje01': 81, 'padgesc01': 0, 'kerseje01': 2, 'eschmev01': 51, 'mcgratr01': 81, 'rideris01': 6, 'terryja01': 77, 'piercpa01': 82, 'pippesc01': 63, 'spencfe01': 0, 'bryanma01': 1, 'grantbr01': 79, 'hughela01': 45, 'nestera01': 41, 'brownch01': 2, 'grantho01': 93, 'vanhoke01': 47, 'mournal01': 6, 'slatere01': 16, 'dialde01': 0, 'cartean01': 7, 'wallajo01': 0, 'starkjo01': 64, 'reidjr01': 0, 'szczewa02': 86, 'mottoha01': 3, 'johnsla02': 65, 'barrybr01': 20, 'rosema01': 9, 'rogerro01': 3, 'bradlsh01': 45, 'alexaco01': 0, 'jamesti01': 0, 'lewisra02': 78, 'greenac01': 1, 'hammoto01': 0, 'harrial01': 38, 'brandel01': 74, 'brandte01': 82, 'santida01': 2, 'westdo01': 6, 'russebr01': 51, 'cambyma01': 67, 'millsch01': 8, 'murrala01': 46, 'currymi01': 58, 'ellisla01': 5, 'kingge02': 3, 'mercero01': 61, 'walkesa01': 1, 'whitnch01': 31, 'reddmi01': 0, 'cokerjo01': 0, 'edwarke01': 5, 'martida01': 0, 'langhda01': 0, 'paytoga01': 79, 'odomla01': 74, 'webbech01': 78, 'roseja01': 76, 'maccuto01': 3, 'najered01': 4, 'anderke01': 28, 'ollieke01': 4, 'mccarwa01': 3, 'poseyja01': 82, 'fundela01': 2, 'mariosh01': 83, 'zhizhwa01': 0, 'livinra01': 0, 'crottjo01': 0, 'perkisa01': 41, 'shawbr01': 28, 'harvedo01': 0, 'masseto01': 20, 'sabonar01': 45, 'medvest01': 0, 'buechju01': 3, 'bowenbr01': 75, 'thomati01': 16, 'willike02': 22, 'fizerma01': 13, 'dudlech02': 33, 'vanteda01': 0, 'caffeja01': 33, 'mcdyean01': 70, 'harriot01': 46, 'lafrera01': 74, 'cartevi01': 87, 'gillke01': 26, 'robincl02': 86, 'jacksma02': 35, 'johnsan02': 0, 'bowdlca01': 0, 'jonespo01': 1, 'abdulta01': 12, 'rooksse01': 0, 'longgr01': 27, 'lynchge01': 88, 'wesleda01': 92, 'jonesju01': 14, 'bellra01': 0, 'brownpj01': 89, 'buckngr01': 9, 'drewbr01': 41, 'elliose01': 34, 'wallabe01': 80, 'mckeyde01': 20, 'finlemi01': 92, 'duncati01': 95, 'johnser02': 29, 'lopezfe01': 48, 'murratr01': 1, 'davisan01': 89, 'laettch01': 48, 'millean01': 0, 'palacmi01': 6, 'maxweve01': 6, 'traylro01': 7, 'weathcl01': 82, 'snower01': 59, 'herrech01': 7, 'wallara01': 78}\n"
     ]
    }
   ],
   "source": [
    "print(players_stats_games_started[2001])"
   ]
  },
  {
   "cell_type": "code",
   "execution_count": 24,
   "metadata": {},
   "outputs": [
    {
     "name": "stdout",
     "output_type": "stream",
     "text": [
      "         Player  Age   Tm  G  GS    MP         ID\n",
      "372  Tony Smith   32  ATL  6   0  13.0  smithto02\n",
      "Empty DataFrame\n",
      "Columns: [Player, Age, Tm, G, GS, MP, ID]\n",
      "Index: []\n"
     ]
    }
   ],
   "source": [
    "print(players_stats[2001][\"leagues\"].query(\"ID == 'smithto02'\"))\n",
    "print(players_stats[2001][\"playoffs\"].query(\"ID == 'smithto02'\"))"
   ]
  },
  {
   "cell_type": "code",
   "execution_count": null,
   "metadata": {},
   "outputs": [],
   "source": [
    "years = [2001]\n",
    "players_stats_minutes_played = {}\n",
    "for year in years:\n",
    "    players_stats_minutes_played[year] = {}\n",
    "    player_list = set(players_stats[2001][\"playoffs\"][\"ID\"].values.tolist() + players_stats[2001][\"leagues\"][\"ID\"].values.tolist())\n",
    "    for player_id in player_list:\n",
    "        minutes_played = 0\n",
    "        for game_type in game_types:\n",
    "            if player_id in player_list:\n",
    "                try:\n",
    "                    games_started += players_stats[year][game_type].query(f\"ID == '{player_id}'\")[\"MP\"].iloc[0]\n",
    "                except:\n",
    "                    games_started += 0\n",
    "            \n",
    "        players_stats_minutes_played[year][player_id] = games_started"
   ]
  }
 ],
 "metadata": {
  "kernelspec": {
   "display_name": "NBA",
   "language": "python",
   "name": "python3"
  },
  "language_info": {
   "codemirror_mode": {
    "name": "ipython",
    "version": 3
   },
   "file_extension": ".py",
   "mimetype": "text/x-python",
   "name": "python",
   "nbconvert_exporter": "python",
   "pygments_lexer": "ipython3",
   "version": "3.11.1"
  },
  "orig_nbformat": 4
 },
 "nbformat": 4,
 "nbformat_minor": 2
}
