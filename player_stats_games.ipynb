{
 "cells": [
  {
   "cell_type": "code",
   "execution_count": 1,
   "metadata": {},
   "outputs": [],
   "source": [
    "from clean_data import clean_stats, unique_players, consolidate_personal_awards"
   ]
  },
  {
   "cell_type": "code",
   "execution_count": 2,
   "metadata": {},
   "outputs": [],
   "source": [
    "years = list(range(2001, 2023))\n",
    "game_types = [\"playoffs\", \"leagues\"]\n",
    "columns_to_drop = ['Rk', 'Pos', 'FG', 'FGA', 'FG%', '3P',\n",
    "                   '3PA', '3P%', '2P', '2PA', '2P%', 'eFG%',\n",
    "                   'FT', 'FTA', 'FT%', 'ORB', 'DRB', 'TRB',\n",
    "                   'AST', 'STL', 'BLK', 'TOV', 'PF', 'PTS']\n",
    "distinct_players = []\n",
    "player_stats = {}"
   ]
  },
  {
   "cell_type": "code",
   "execution_count": 3,
   "metadata": {},
   "outputs": [],
   "source": [
    "personal_awards = consolidate_personal_awards()"
   ]
  },
  {
   "cell_type": "code",
   "execution_count": 4,
   "metadata": {},
   "outputs": [],
   "source": [
    "for year in years:\n",
    "    distinct_players.extend(unique_players(year))\n",
    "    player_stats[year] = {}\n",
    "    for game_type in game_types:\n",
    "        player_stats[year][game_type] = clean_stats(year, game_type, columns_to_drop)\n"
   ]
  },
  {
   "cell_type": "code",
   "execution_count": 5,
   "metadata": {},
   "outputs": [],
   "source": [
    "distinct_players = set(distinct_players)"
   ]
  },
  {
   "cell_type": "code",
   "execution_count": 10,
   "metadata": {},
   "outputs": [
    {
     "name": "stdout",
     "output_type": "stream",
     "text": [
      "              Player  Age   Tm   G  GS    MP         ID\n",
      "0         Ray Allen*   25  MIL  18  18  42.7  allenra02\n",
      "1       Rafer Alston   24  MIL   5   0   1.6  alstora01\n",
      "2       John Amaechi   30  ORL   4   0   7.3  amaecjo01\n",
      "3     Derek Anderson   26  SAS   7   7  27.7  anderde01\n",
      "4       Greg Anthony   33  POR   2   0   8.5  anthogr01\n",
      "..               ...  ...  ...  ..  ..   ...        ...\n",
      "185   Jason Williams   25  SAC   8   8  23.9  willija02\n",
      "186  Jerome Williams   27  TOR  11   0  14.9  willije01\n",
      "187   Monty Williams   29  ORL   3   0   4.7  willimo01\n",
      "188   Scott Williams   32  MIL  17  17  22.2  willisc01\n",
      "189      Wang Zhizhi   23  DAL   5   0   4.6  zhizhwa01\n",
      "\n",
      "[190 rows x 7 columns]\n"
     ]
    }
   ],
   "source": [
    "print(player_stats[2001][\"playoffs\"])"
   ]
  },
  {
   "cell_type": "code",
   "execution_count": 12,
   "metadata": {},
   "outputs": [
    {
     "name": "stdout",
     "output_type": "stream",
     "text": [
      "                  Player  Age   Tm   G  GS    MP         ID\n",
      "0     Mahmoud Abdul-Rauf   31  VAN  41   0  11.9  abdulma02\n",
      "1      Tariq Abdul-Wahad   26  DEN  29  12  14.5  abdulta01\n",
      "2    Shareef Abdur-Rahim   24  VAN  81  81  40.0  abdursh01\n",
      "3         Cory Alexander   27  ORL  26   0   8.7  alexaco01\n",
      "4     Courtney Alexander   23  TOT  65  24  21.3  alexaco02\n",
      "..                   ...  ...  ...  ..  ..   ...        ...\n",
      "436        David Wingate   37  SEA   1   0   9.0  wingada01\n",
      "437     Rubén Wolkowyski   27  SEA  34   1   9.0  wolkoru01\n",
      "438    Metta World Peace   21  CHI  76  74  31.1  artesro01\n",
      "439      Lorenzen Wright   25  ATL  71  46  28.0  wrighlo02\n",
      "440          Wang Zhizhi   23  DAL   5   0   7.6  zhizhwa01\n",
      "\n",
      "[441 rows x 7 columns]\n"
     ]
    }
   ],
   "source": [
    "print(player_stats[2001][\"leagues\"])"
   ]
  },
  {
   "cell_type": "code",
   "execution_count": null,
   "metadata": {},
   "outputs": [],
   "source": [
    "# player_id = \"allenra02\"\n",
    "# print(player_stats[2001][\"playoffs\"][\"ID\"][0])\n",
    "# games_playoffs = player_stats[2001][\"playoffs\"].query(f\"ID == '{player_id}'\")[\"G\"].iloc[0]\n",
    "# games_leagues = player_stats[2001][\"leagues\"].query(f\"ID == '{player_id}'\")[\"G\"].iloc[0]\n",
    "\n",
    "# print(games_playoffs + games_leagues)"
   ]
  },
  {
   "cell_type": "code",
   "execution_count": null,
   "metadata": {},
   "outputs": [],
   "source": [
    "# player_list = set(player_stats[2001][\"playoffs\"][\"ID\"].values.tolist() + player_stats[2001][\"leagues\"][\"ID\"].values.tolist())\n",
    "# print(player_list)"
   ]
  },
  {
   "cell_type": "code",
   "execution_count": 8,
   "metadata": {},
   "outputs": [],
   "source": [
    "years = [2001]\n",
    "player_stats_games = {}\n",
    "for year in years:\n",
    "    player_stats_games[year] = {}\n",
    "    player_list = set(player_stats[2001][\"playoffs\"][\"ID\"].values.tolist() + player_stats[2001][\"leagues\"][\"ID\"].values.tolist())\n",
    "    for player_id in player_list:\n",
    "        games_played = 0\n",
    "        for game_type in game_types:\n",
    "            if player_id in player_stats[2001][\"playoffs\"][\"ID\"].values.tolist():\n",
    "                games_played += player_stats[year][game_type].query(f\"ID == '{player_id}'\")[\"G\"].iloc[0]\n",
    "            \n",
    "        player_stats_games[year][player_id] = games_played\n"
   ]
  },
  {
   "cell_type": "code",
   "execution_count": 11,
   "metadata": {},
   "outputs": [
    {
     "name": "stdout",
     "output_type": "stream",
     "text": [
      "10\n"
     ]
    }
   ],
   "source": [
    "print(player_stats_games[2001][\"zhizhwa01\"])"
   ]
  },
  {
   "cell_type": "code",
   "execution_count": null,
   "metadata": {},
   "outputs": [],
   "source": []
  }
 ],
 "metadata": {
  "kernelspec": {
   "display_name": "NBA",
   "language": "python",
   "name": "python3"
  },
  "language_info": {
   "codemirror_mode": {
    "name": "ipython",
    "version": 3
   },
   "file_extension": ".py",
   "mimetype": "text/x-python",
   "name": "python",
   "nbconvert_exporter": "python",
   "pygments_lexer": "ipython3",
   "version": "3.11.1"
  },
  "orig_nbformat": 4
 },
 "nbformat": 4,
 "nbformat_minor": 2
}
