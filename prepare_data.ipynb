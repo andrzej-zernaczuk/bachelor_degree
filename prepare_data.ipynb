{
 "cells": [
  {
   "cell_type": "code",
   "execution_count": 1,
   "metadata": {},
   "outputs": [],
   "source": [
    "import pickle\n",
    "import pandas as pd\n",
    "import statsmodels.api as sm\n",
    "from sklearn.model_selection import train_test_split"
   ]
  },
  {
   "cell_type": "code",
   "execution_count": 2,
   "metadata": {},
   "outputs": [],
   "source": [
    "years = list(range(2001, 2024))"
   ]
  },
  {
   "cell_type": "code",
   "execution_count": 3,
   "metadata": {},
   "outputs": [],
   "source": [
    "with open('./data/cleaned_data/final_stats.pickle', 'rb') as statistics:\n",
    "    final_stats = pickle.load(statistics)"
   ]
  },
  {
   "cell_type": "code",
   "execution_count": 4,
   "metadata": {},
   "outputs": [],
   "source": [
    "stats_columns = [\"ID\", \"salary_cap_perc\", \"last_year_of_contract\", \"age\", \"games_played_perc\", \"games_started_perc\", \"minutes_played\", \"avg_minutes_played\", \"WS48\", \"PER\", \"team_won_finals\", \"team_lost_finals\", \"team_lost_semifinals\", \"team_lost_first_match\", \"most_improved\", \"most_valuable\", \"most_valuable_finals\", \"sixth_man\", \"all_league\", \"season\"]\n",
    "last_year_of_contracts = pd.DataFrame(columns=stats_columns)"
   ]
  },
  {
   "cell_type": "code",
   "execution_count": 5,
   "metadata": {},
   "outputs": [
    {
     "name": "stderr",
     "output_type": "stream",
     "text": [
      "/var/folders/8k/jkxj5v5545j6jgj7pfxxzpmc0000gn/T/ipykernel_76831/2377337714.py:7: FutureWarning: The behavior of DataFrame concatenation with empty or all-NA entries is deprecated. In a future version, this will no longer exclude empty or all-NA columns when determining the result dtypes. To retain the old behavior, exclude the relevant entries before the concat operation.\n",
      "  last_year_of_contracts = pd.concat([last_year_of_contracts, contracts]).reset_index(drop=True)\n"
     ]
    }
   ],
   "source": [
    "# get data for players on last year of contract. Don't inclue season 2023 becuase of lack of next season data for players\n",
    "for year in years[:-1]:\n",
    "    contracts = pd.DataFrame()\n",
    "    contracts = final_stats[year].query(\"last_year_of_contract == True\").copy()\n",
    "    contracts[\"season\"] = year\n",
    "    contracts = contracts.reset_index()\n",
    "    last_year_of_contracts = pd.concat([last_year_of_contracts, contracts]).reset_index(drop=True)"
   ]
  },
  {
   "cell_type": "code",
   "execution_count": 6,
   "metadata": {},
   "outputs": [],
   "source": [
    "# get rid of Nans and players that did not contribute a lot to their teams (possible end of careers, injury etc)\n",
    "last_year_of_contracts = last_year_of_contracts[(last_year_of_contracts[\"minutes_played\"] > 96)].reset_index(drop=True)\n",
    "last_year_of_contracts = last_year_of_contracts[(last_year_of_contracts[\"avg_minutes_played\"] > 5)].reset_index(drop=True)\n",
    "last_year_of_contracts = last_year_of_contracts[(last_year_of_contracts[\"games_played_perc\"] > 0.1)].reset_index(drop=True)\n",
    "last_year_of_contracts = last_year_of_contracts.dropna()"
   ]
  },
  {
   "cell_type": "code",
   "execution_count": 7,
   "metadata": {},
   "outputs": [],
   "source": [
    "# Create df for analysis and prediction\n",
    "model_columns = [\"ID\", \"season\", \"salary_cap_perc\", \"age\", \"games_played_perc\", \"games_started_perc\", \"minutes_played\", \"avg_minutes_played\", \"WS48\", \"PER\", \"team_won_finals\", \"team_lost_finals\", \"team_lost_semifinals\", \"team_lost_first_match\", \"most_improved\", \"most_valuable\", \"most_valuable_finals\", \"sixth_man\", \"all_league\"]\n",
    "data = pd.DataFrame(columns = model_columns)"
   ]
  },
  {
   "cell_type": "code",
   "execution_count": 8,
   "metadata": {},
   "outputs": [],
   "source": [
    "# Load data and clean games_player_perc of anomalies\n",
    "for index, row in last_year_of_contracts.iterrows():\n",
    "    row_id = row['ID']\n",
    "    season = row[\"season\"]\n",
    "    try:\n",
    "        salary_cap_perc = final_stats[season+1].query(f'ID == \"{row_id}\"')[\"salary_cap_perc\"].iloc[0]\n",
    "        age = row[\"age\"]\n",
    "        if row[\"games_played_perc\"] > 1:\n",
    "            games_played_perc = 1\n",
    "        else:\n",
    "            games_played_perc = row[\"games_played_perc\"]\n",
    "        games_started_perc = row[\"games_started_perc\"]\n",
    "        minutes_played = row[\"minutes_played\"]\n",
    "        avg_minutes_played = row[\"avg_minutes_played\"]\n",
    "        win_shares_per = row[\"WS48\"]\n",
    "        player_efficiency = row[\"PER\"]\n",
    "        team_won_finals = row[\"team_won_finals\"]\n",
    "        team_lost_finals = row[\"team_lost_finals\"]\n",
    "        team_lost_semifinals = row[\"team_lost_semifinals\"]\n",
    "        team_lost_first_match = row[\"team_lost_first_match\"]\n",
    "        most_improved = row['most_improved']\n",
    "        most_valuable = row['most_valuable']\n",
    "        most_valuable_finals = row['most_valuable_finals']\n",
    "        sixth_man = row['sixth_man']\n",
    "        all_league = row['all_league']\n",
    "\n",
    "        new_df_row = [row_id, season, salary_cap_perc, age, games_played_perc, games_started_perc, minutes_played, avg_minutes_played, win_shares_per, player_efficiency,\n",
    "                        team_won_finals, team_lost_finals, team_lost_semifinals, team_lost_first_match, most_improved, most_valuable, most_valuable_finals, sixth_man, all_league]\n",
    "        data.loc[len(data)] = new_df_row\n",
    "    except:\n",
    "        pass"
   ]
  },
  {
   "cell_type": "code",
   "execution_count": 9,
   "metadata": {},
   "outputs": [],
   "source": [
    "data.to_csv(\"./data/final_data/data.csv\", index=False, encoding='utf-8')"
   ]
  },
  {
   "cell_type": "code",
   "execution_count": 10,
   "metadata": {},
   "outputs": [],
   "source": [
    "X = data.drop(columns=[\"salary_cap_perc\"])\n",
    "y = data[\"salary_cap_perc\"]"
   ]
  },
  {
   "cell_type": "code",
   "execution_count": 11,
   "metadata": {},
   "outputs": [],
   "source": [
    "X_train, X_test, y_train, y_test = train_test_split(X, y, test_size=0.2, random_state=42)"
   ]
  },
  {
   "cell_type": "code",
   "execution_count": 12,
   "metadata": {},
   "outputs": [],
   "source": [
    "X_train = sm.add_constant(X_train)\n",
    "X_test = sm.add_constant(X_test)"
   ]
  },
  {
   "cell_type": "code",
   "execution_count": 13,
   "metadata": {},
   "outputs": [],
   "source": [
    "X_train.to_csv('./data/final_data/X_train.csv', index=False, encoding='utf-8')\n",
    "X_test.to_csv('./data/final_data/X_test.csv', index=False, encoding='utf-8')\n",
    "y_train.to_csv('./data/final_data/y_train.csv', index=False, encoding='utf-8')\n",
    "y_test.to_csv('./data/final_data/y_test.csv', index=False, encoding='utf-8')"
   ]
  },
  {
   "cell_type": "code",
   "execution_count": null,
   "metadata": {},
   "outputs": [],
   "source": []
  }
 ],
 "metadata": {
  "kernelspec": {
   "display_name": "bachelor",
   "language": "python",
   "name": "python3"
  },
  "language_info": {
   "codemirror_mode": {
    "name": "ipython",
    "version": 3
   },
   "file_extension": ".py",
   "mimetype": "text/x-python",
   "name": "python",
   "nbconvert_exporter": "python",
   "pygments_lexer": "ipython3",
   "version": "3.11.6"
  },
  "orig_nbformat": 4
 },
 "nbformat": 4,
 "nbformat_minor": 2
}
