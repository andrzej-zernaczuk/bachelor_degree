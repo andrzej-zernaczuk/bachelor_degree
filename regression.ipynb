{
 "cells": [
  {
   "cell_type": "code",
   "execution_count": 51,
   "metadata": {},
   "outputs": [],
   "source": [
    "import numpy as np\n",
    "import matplotlib.pyplot as plt\n",
    "import pandas as pd\n",
    "import statsmodels.api as sm\n",
    "import statsmodels.formula.api as smf\n",
    "import statsmodels.stats.diagnostic as smd\n",
    "import pickle"
   ]
  },
  {
   "cell_type": "code",
   "execution_count": 52,
   "metadata": {},
   "outputs": [],
   "source": [
    "years = list(range(2001, 2024))\n",
    "years_contracts = list(range(1996, 2024))"
   ]
  },
  {
   "cell_type": "code",
   "execution_count": 53,
   "metadata": {},
   "outputs": [],
   "source": [
    "with open('./data/final_stats.pickle', 'rb') as statistics:\n",
    "    final_stats = pickle.load(statistics)"
   ]
  },
  {
   "cell_type": "code",
   "execution_count": 54,
   "metadata": {},
   "outputs": [],
   "source": [
    "stats_columns = [\"ID\", \"salary_perc\", \"last_year_of_contract\", \"age\", \"games_played_perc\", \"games_started_perc\", \"minutes_played\", \"avg_minutes_played\", \"WS48\", \"PER\", \"team_successes\",\n",
    "              \"defensive\", \"most_improved\", \"most_valuable\", \"most_valuable_finals\", \"sixth_man\", \"all_league\", \"all_def\", \"season\"]\n",
    "last_year_of_contracts = pd.DataFrame(columns=stats_columns)"
   ]
  },
  {
   "cell_type": "code",
   "execution_count": 55,
   "metadata": {},
   "outputs": [],
   "source": [
    "for year in years[:-1]:\n",
    "    contracts = pd.DataFrame()\n",
    "    contracts = final_stats[year].query(\"last_year_of_contract == True\").copy()\n",
    "    contracts[\"season\"] = year\n",
    "    contracts = contracts.reset_index()\n",
    "    last_year_of_contracts = pd.concat([last_year_of_contracts, contracts]).reset_index(drop=True)"
   ]
  },
  {
   "cell_type": "code",
   "execution_count": 56,
   "metadata": {},
   "outputs": [],
   "source": [
    "last_year_of_contracts = last_year_of_contracts[(last_year_of_contracts[\"minutes_played\"] > 96)].reset_index(drop=True)\n",
    "last_year_of_contracts = last_year_of_contracts[(last_year_of_contracts[\"avg_minutes_played\"] > 5)].reset_index(drop=True)\n",
    "last_year_of_contracts = last_year_of_contracts[(last_year_of_contracts[\"games_played_perc\"] > 0.1)].reset_index(drop=True)"
   ]
  },
  {
   "cell_type": "code",
   "execution_count": null,
   "metadata": {},
   "outputs": [],
   "source": [
    "last_year_of_contracts"
   ]
  },
  {
   "cell_type": "code",
   "execution_count": 57,
   "metadata": {},
   "outputs": [],
   "source": [
    "model_columns = [\"salary_perc\", \"age\", \"games_played_perc\", \"games_started_perc\", \"minutes_played\", \"avg_minutes_played\", \"WS48\", \"PER\", \"team_successes\", \"player_successes\"]\n",
    "model_data = pd.DataFrame(columns = model_columns)"
   ]
  },
  {
   "cell_type": "code",
   "execution_count": 58,
   "metadata": {},
   "outputs": [],
   "source": [
    "for index, row in last_year_of_contracts.iterrows():\n",
    "    row_id = row['ID']\n",
    "    season = row[\"season\"]\n",
    "    try:\n",
    "        salary_perc = final_stats[season+1].query(f'ID == \"{row_id}\"')[\"salary_perc\"].iloc[0]\n",
    "        age = row[\"age\"]\n",
    "        if row[\"games_played_perc\"] > 1:\n",
    "            games_played_perc = 1\n",
    "        else:\n",
    "            games_played_perc = row[\"games_played_perc\"]\n",
    "        games_started_perc = row[\"games_started_perc\"]\n",
    "        minutes_played = row[\"minutes_played\"]\n",
    "        avg_minutes_played = row[\"avg_minutes_played\"]\n",
    "        win_shares_per = row[\"WS48\"]\n",
    "        player_efficiency = row[\"PER\"]\n",
    "        team_successes = row[\"team_successes\"]\n",
    "        success_points = row['defensive'] * 2 + row['most_improved'] * 1 + row['most_valuable'] * 5 + row['most_valuable_finals'] * 4 + row['sixth_man'] * 2 + row['all_league'] * 2 + row['all_def'] * 1\n",
    "\n",
    "        new_df_row = [salary_perc, age, games_played_perc, games_started_perc, minutes_played, avg_minutes_played, win_shares_per, player_efficiency, team_successes, success_points]\n",
    "        model_data.loc[len(model_data)] = new_df_row\n",
    "    except:\n",
    "        pass"
   ]
  },
  {
   "cell_type": "code",
   "execution_count": 347,
   "metadata": {},
   "outputs": [],
   "source": [
    "model_data[\"WS\"] = model_data[\"WS48\"] * model_data[\"minutes_played\"] / 48"
   ]
  },
  {
   "cell_type": "code",
   "execution_count": 59,
   "metadata": {},
   "outputs": [
    {
     "data": {
      "text/plain": [
       "count    2178.000000\n",
       "mean        0.737744\n",
       "std         0.230732\n",
       "min         0.102273\n",
       "25%         0.598039\n",
       "50%         0.804878\n",
       "75%         0.929506\n",
       "max         1.000000\n",
       "Name: games_played_perc, dtype: float64"
      ]
     },
     "execution_count": 59,
     "metadata": {},
     "output_type": "execute_result"
    }
   ],
   "source": [
    "model_data[\"games_played_perc\"].describe()"
   ]
  },
  {
   "cell_type": "code",
   "execution_count": 60,
   "metadata": {},
   "outputs": [
    {
     "data": {
      "text/plain": [
       "[]"
      ]
     },
     "execution_count": 60,
     "metadata": {},
     "output_type": "execute_result"
    },
    {
     "data": {
      "image/png": "[encoded data removed]",
      "text/plain": [
       "<Figure size 640x480 with 1 Axes>"
      ]
     },
     "metadata": {},
     "output_type": "display_data"
    }
   ],
   "source": [
    "x_val = model_data[\"age\"].copy()\n",
    "x_val_log = x_val.apply(lambda x: np.log(x))\n",
    "x_val_sqrt = x_val.apply(lambda x: np.sqrt(x))\n",
    "plt.hist(x_val_log, color='grey')\n",
    "plt.ylabel('Counts')\n",
    "plt.xlabel('age')\n",
    "plt.plot()"
   ]
  },
  {
   "cell_type": "code",
   "execution_count": null,
   "metadata": {},
   "outputs": [],
   "source": [
    "x_val = model_data[\"games_played_perc\"].copy()\n",
    "x_val_log = x_val.apply(lambda x: np.log2(x))\n",
    "plt.hist(x_val_log, color='grey')\n",
    "plt.ylabel('Counts')\n",
    "plt.xlabel('games')\n",
    "plt.plot()"
   ]
  },
  {
   "cell_type": "code",
   "execution_count": null,
   "metadata": {},
   "outputs": [],
   "source": [
    "x_val = model_data[\"games_started_perc\"].copy()\n",
    "x_val_sqrt = x_val.apply(lambda x: np.sqrt(x))\n",
    "plt.hist(x_val_sqrt, color='grey')\n",
    "plt.ylabel('Counts')\n",
    "plt.xlabel('games_started_perc')\n",
    "plt.plot()"
   ]
  },
  {
   "cell_type": "code",
   "execution_count": null,
   "metadata": {},
   "outputs": [],
   "source": [
    "x_val = model_data[\"WS48\"].copy()\n",
    "plt.hist(x_val, color='grey')\n",
    "plt.ylabel('Counts')\n",
    "plt.xlabel('WS48')\n",
    "plt.plot()"
   ]
  },
  {
   "cell_type": "code",
   "execution_count": null,
   "metadata": {},
   "outputs": [],
   "source": [
    "x_val = model_data[\"PER\"].copy()\n",
    "x_val_log = x_val.apply(lambda x: np.log(x))\n",
    "plt.hist(x_val, color='grey')\n",
    "plt.ylabel('Counts')\n",
    "plt.xlabel('PER')\n",
    "plt.plot()"
   ]
  },
  {
   "cell_type": "code",
   "execution_count": null,
   "metadata": {},
   "outputs": [],
   "source": [
    "x_val = model_data[\"team_successes\"].copy()\n",
    "x_val_pow = x_val.apply(lambda x: np.power(x, 3))\n",
    "plt.hist(x_val_pow, color='grey')\n",
    "plt.ylabel('Counts')\n",
    "plt.xlabel('team_successes')\n",
    "plt.plot()"
   ]
  },
  {
   "cell_type": "code",
   "execution_count": null,
   "metadata": {},
   "outputs": [],
   "source": [
    "x_val = model_data[\"player_successes\"].copy()\n",
    "x_val_pow = x_val.apply(lambda x: np.power(x, 3))\n",
    "plt.hist(x_val_pow, color='grey')\n",
    "plt.ylabel('Counts')\n",
    "plt.xlabel('player_successes')\n",
    "plt.plot()"
   ]
  },
  {
   "cell_type": "code",
   "execution_count": 119,
   "metadata": {},
   "outputs": [
    {
     "name": "stdout",
     "output_type": "stream",
     "text": [
      "results.summary(): \n",
      "                             OLS Regression Results                            \n",
      "===============================================================================\n",
      "Dep. Variable:     np.log(salary_perc)   R-squared:                       0.519\n",
      "Model:                             OLS   Adj. R-squared:                  0.518\n",
      "Method:                  Least Squares   F-statistic:                     469.2\n",
      "Date:                 Sun, 13 Aug 2023   Prob (F-statistic):               0.00\n",
      "Time:                         23:32:21   Log-Likelihood:                -2737.9\n",
      "No. Observations:                 2178   AIC:                             5488.\n",
      "Df Residuals:                     2172   BIC:                             5522.\n",
      "Df Model:                            5                                         \n",
      "Covariance Type:             nonrobust                                         \n",
      "=================================================================================================\n",
      "                                    coef    std err          t      P>|t|      [0.025      0.975]\n",
      "-------------------------------------------------------------------------------------------------\n",
      "Intercept                        -5.7181      0.415    -13.767      0.000      -6.533      -4.904\n",
      "np.log2(age)                      0.0639      0.088      0.724      0.469      -0.109       0.237\n",
      "games_started_perc                0.6464      0.083      7.784      0.000       0.484       0.809\n",
      "np.power(team_successes, 3)    6.209e-05      0.001      0.083      0.934      -0.001       0.002\n",
      "np.power(player_successes, 3)     0.0003      0.000      0.791      0.429      -0.001       0.001\n",
      "np.sqrt(minutes_played)           0.0569      0.002     23.287      0.000       0.052       0.062\n",
      "==============================================================================\n",
      "Omnibus:                      222.119   Durbin-Watson:                   2.051\n",
      "Prob(Omnibus):                  0.000   Jarque-Bera (JB):              476.709\n",
      "Skew:                          -0.629   Prob(JB):                    3.05e-104\n",
      "Kurtosis:                       4.915   Cond. No.                     1.04e+03\n",
      "==============================================================================\n",
      "\n",
      "Notes:\n",
      "[1] Standard Errors assume that the covariance matrix of the errors is correctly specified.\n",
      "[2] The condition number is large, 1.04e+03. This might indicate that there are\n",
      "strong multicollinearity or other numerical problems.\n",
      "\n"
     ]
    }
   ],
   "source": [
    "# # #R-squared: 0.519, RESET: p=0.1284729485335086\n",
    "# reg = smf.ols(formula='np.log(salary_perc) ~ np.log2(age) + games_started_perc + np.power(team_successes, 3) + np.power(player_successes, 3) + np.sqrt(minutes_played)', data=model_data)\n",
    "# results = reg.fit()\n",
    "# print(f'results.summary(): \\n{results.summary()}\\n')"
   ]
  },
  {
   "cell_type": "code",
   "execution_count": 161,
   "metadata": {},
   "outputs": [
    {
     "name": "stdout",
     "output_type": "stream",
     "text": [
      "results.summary(): \n",
      "                             OLS Regression Results                            \n",
      "===============================================================================\n",
      "Dep. Variable:     np.log(salary_perc)   R-squared:                       0.537\n",
      "Model:                             OLS   Adj. R-squared:                  0.535\n",
      "Method:                  Least Squares   F-statistic:                     502.9\n",
      "Date:                 Sun, 13 Aug 2023   Prob (F-statistic):               0.00\n",
      "Time:                         23:36:37   Log-Likelihood:                -2698.1\n",
      "No. Observations:                 2178   AIC:                             5408.\n",
      "Df Residuals:                     2172   BIC:                             5442.\n",
      "Df Model:                            5                                         \n",
      "Covariance Type:             nonrobust                                         \n",
      "=================================================================================================\n",
      "                                    coef    std err          t      P>|t|      [0.025      0.975]\n",
      "-------------------------------------------------------------------------------------------------\n",
      "Intercept                        -6.2233      0.409    -15.221      0.000      -7.025      -5.421\n",
      "np.log2(age)                      0.1943      0.086      2.255      0.024       0.025       0.363\n",
      "games_started_perc                0.3231      0.088      3.654      0.000       0.150       0.496\n",
      "np.power(team_successes, 3)       0.0033      0.001      4.490      0.000       0.002       0.005\n",
      "np.power(player_successes, 3)  5.585e-05      0.000      0.131      0.896      -0.001       0.001\n",
      "avg_minutes_played                0.0933      0.004     25.367      0.000       0.086       0.101\n",
      "==============================================================================\n",
      "Omnibus:                      410.989   Durbin-Watson:                   2.069\n",
      "Prob(Omnibus):                  0.000   Jarque-Bera (JB):              967.885\n",
      "Skew:                          -1.047   Prob(JB):                    6.71e-211\n",
      "Kurtosis:                       5.507   Cond. No.                     1.02e+03\n",
      "==============================================================================\n",
      "\n",
      "Notes:\n",
      "[1] Standard Errors assume that the covariance matrix of the errors is correctly specified.\n",
      "[2] The condition number is large, 1.02e+03. This might indicate that there are\n",
      "strong multicollinearity or other numerical problems.\n",
      "\n"
     ]
    }
   ],
   "source": [
    "# # #R-squared: 0.537, RESET: p=0.3872389978457752\n",
    "reg = smf.ols(formula='np.log(salary_perc) ~ np.log2(age) + games_started_perc + np.power(team_successes, 3) + np.power(player_successes, 3) + avg_minutes_played', data=model_data)\n",
    "results = reg.fit()\n",
    "print(f'results.summary(): \\n{results.summary()}\\n')"
   ]
  },
  {
   "cell_type": "code",
   "execution_count": 162,
   "metadata": {},
   "outputs": [],
   "source": [
    "results_np = sm.OLS(results.model.endog, results.model.exog).fit()"
   ]
  },
  {
   "cell_type": "code",
   "execution_count": 163,
   "metadata": {},
   "outputs": [
    {
     "data": {
      "text/plain": [
       "<class 'statsmodels.stats.contrast.ContrastResults'>\n",
       "<F test: F=0.9491281046908072, p=0.3872389978457752, df_denom=2.17e+03, df_num=2>"
      ]
     },
     "execution_count": 163,
     "metadata": {},
     "output_type": "execute_result"
    }
   ],
   "source": [
    "# test reset\n",
    "reset_test = smd.linear_reset(res=results_np, use_f = True)\n",
    "reset_test"
   ]
  },
  {
   "cell_type": "code",
   "execution_count": 137,
   "metadata": {},
   "outputs": [
    {
     "name": "stdout",
     "output_type": "stream",
     "text": [
      "{'Test Statistic': 138.0286802275929, 'Test Statistic p-value': 7.348750859475908e-17, 'F-Statistic': 5.387905495659646, 'F-Test p-value': 1.7034369323134804e-17}\n"
     ]
    }
   ],
   "source": [
    "# WHITE TEST\n",
    "white_test = smd.het_white(results.resid,  results.model.exog)\n",
    "\n",
    "#define labels to use for output of White's test\n",
    "labels = ['Test Statistic', 'Test Statistic p-value', 'F-Statistic', 'F-Test p-value']\n",
    "\n",
    "#print results of White's test\n",
    "print(dict(zip(labels, white_test)))"
   ]
  },
  {
   "cell_type": "code",
   "execution_count": 129,
   "metadata": {},
   "outputs": [
    {
     "name": "stdout",
     "output_type": "stream",
     "text": [
      "{'Test Statistic': 66.66495771340465, 'Test Statistic p-value': 5.057626714783096e-13, 'F-Statistic': 13.716088186240619, 'F-Test p-value': 3.286050996230044e-13}\n"
     ]
    }
   ],
   "source": [
    "# BREUSCH-PAGAN TEST\n",
    "bp_test = smd.het_breuschpagan(results.resid, results.model.exog)\n",
    "#define labels to use for output of BP test\n",
    "labels = ['Test Statistic', 'Test Statistic p-value', 'F-Statistic', 'F-Test p-value']\n",
    "\n",
    "#print results of BP test\n",
    "print(dict(zip(labels, bp_test)))"
   ]
  },
  {
   "cell_type": "code",
   "execution_count": 130,
   "metadata": {},
   "outputs": [
    {
     "name": "stdout",
     "output_type": "stream",
     "text": [
      "{'Test Statistic': 13.888712499738691, 'Test Statistic p-value': 0.1781285672471317, 'F-Statistic': 1.3875162796788953, 'F-Test p-value': 0.17964335894457562}\n"
     ]
    }
   ],
   "source": [
    "# BREUSCH-GODFREY TEST\n",
    "bg_test = smd.acorr_breusch_godfrey(results)\n",
    "\n",
    "#define labels to use for output of BP test\n",
    "labels = ['Test Statistic', 'Test Statistic p-value', 'F-Statistic', 'F-Test p-value']\n",
    "\n",
    "#print results of BP test\n",
    "print(dict(zip(labels, bg_test)))"
   ]
  },
  {
   "cell_type": "code",
   "execution_count": null,
   "metadata": {},
   "outputs": [],
   "source": []
  }
 ],
 "metadata": {
  "kernelspec": {
   "display_name": "NBA",
   "language": "python",
   "name": "python3"
  },
  "language_info": {
   "codemirror_mode": {
    "name": "ipython",
    "version": 3
   },
   "file_extension": ".py",
   "mimetype": "text/x-python",
   "name": "python",
   "nbconvert_exporter": "python",
   "pygments_lexer": "ipython3",
   "version": "3.11.1"
  },
  "orig_nbformat": 4
 },
 "nbformat": 4,
 "nbformat_minor": 2
}
