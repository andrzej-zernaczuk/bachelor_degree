{
 "cells": [
  {
   "cell_type": "code",
   "execution_count": null,
   "metadata": {},
   "outputs": [],
   "source": [
    "import numpy as np\n",
    "import matplotlib.pyplot as plt\n",
    "import pandas as pd\n",
    "import scipy as sp\n",
    "import scipy.stats\n",
    "import statsmodels.api as sm\n",
    "import statsmodels.formula.api as smf\n",
    "import statsmodels.stats.diagnostic as smd\n",
    "import pickle\n",
    "import seaborn as sns"
   ]
  },
  {
   "cell_type": "code",
   "execution_count": null,
   "metadata": {},
   "outputs": [],
   "source": [
    "years = list(range(2001, 2024))\n",
    "years_contracts = list(range(1996, 2024))"
   ]
  },
  {
   "cell_type": "code",
   "execution_count": null,
   "metadata": {},
   "outputs": [],
   "source": [
    "with open('./data/final_stats.pickle', 'rb') as statistics:\n",
    "    final_stats = pickle.load(statistics)"
   ]
  },
  {
   "cell_type": "code",
   "execution_count": null,
   "metadata": {},
   "outputs": [],
   "source": [
    "final_stats[2001][\"minutes_played\"].describe()"
   ]
  },
  {
   "cell_type": "code",
   "execution_count": null,
   "metadata": {},
   "outputs": [],
   "source": [
    "with open('./data/cleaned_data/players_contracts.pickle', 'rb') as play_contracts:\n",
    "    players_contracts = pickle.load(play_contracts)"
   ]
  },
  {
   "cell_type": "code",
   "execution_count": null,
   "metadata": {},
   "outputs": [],
   "source": [
    "stats_columns = [\"ID\", \"salary_perc\", \"last_year_of_contract\", \"age\", \"games_played_perc\", \"games_started_perc\", \"minutes_played\", \"avg_minutes_played\", \"WS48\", \"PER\", \"team_successes\",\n",
    "              \"defensive\", \"most_improved\", \"most_valuable\", \"most_valuable_finals\", \"sixth_man\", \"all_league\", \"all_def\", \"season\"]\n",
    "last_year_of_contracts = pd.DataFrame(columns=stats_columns)"
   ]
  },
  {
   "cell_type": "code",
   "execution_count": null,
   "metadata": {},
   "outputs": [],
   "source": [
    "for year in years[:-1]:\n",
    "    contracts = pd.DataFrame()\n",
    "    contracts = final_stats[year].query(\"last_year_of_contract == True\").copy()\n",
    "    contracts[\"season\"] = year\n",
    "    contracts = contracts.reset_index()\n",
    "    last_year_of_contracts = pd.concat([last_year_of_contracts, contracts]).reset_index(drop=True)"
   ]
  },
  {
   "cell_type": "code",
   "execution_count": null,
   "metadata": {},
   "outputs": [],
   "source": [
    "last_year_of_contracts = last_year_of_contracts[(last_year_of_contracts[\"minutes_played\"] > 96)].reset_index(drop=True)"
   ]
  },
  {
   "cell_type": "code",
   "execution_count": null,
   "metadata": {},
   "outputs": [],
   "source": [
    "last_year_of_contracts"
   ]
  },
  {
   "cell_type": "code",
   "execution_count": null,
   "metadata": {},
   "outputs": [],
   "source": [
    "model_columns = [\"salary_perc\", \"age\", \"games_played_perc\", \"games_started_perc\", \"minutes_played\", \"avg_minutes_played\", \"WS48\", \"PER\", \"team_successes\", \"player_successes\"]\n",
    "model_data = pd.DataFrame(columns = model_columns)"
   ]
  },
  {
   "cell_type": "code",
   "execution_count": null,
   "metadata": {},
   "outputs": [],
   "source": [
    "for index, row in last_year_of_contracts.iterrows():\n",
    "    row_id = row['ID']\n",
    "    season = row[\"season\"]\n",
    "    try:\n",
    "        salary_perc = final_stats[season+1].query(f'ID == \"{row_id}\"')[\"salary_perc\"].iloc[0]\n",
    "        age = row[\"age\"]\n",
    "        games_played_perc = row[\"games_played_perc\"]\n",
    "        games_started_perc = row[\"games_started_perc\"]\n",
    "        minutes_played = row[\"minutes_played\"]\n",
    "        avg_minutes_played = row[\"avg_minutes_played\"]\n",
    "        win_shares_per = row[\"PER\"]\n",
    "        player_efficiency = row[\"WS48\"]\n",
    "        team_successes = row[\"team_successes\"]\n",
    "        success_points = row['defensive'] * 2 + row['most_improved'] * 1 + row['most_valuable'] * 5 + row['most_valuable_finals'] * 4 + row['sixth_man'] * 2 + row['all_league'] * 2 + row['all_def'] * 1\n",
    "\n",
    "        new_df_row = [salary_perc, age, games_played_perc, games_started_perc, minutes_played, avg_minutes_played, win_shares_per, player_efficiency, team_successes, success_points]\n",
    "        model_data.loc[len(model_data)] = new_df_row\n",
    "    except:\n",
    "        pass"
   ]
  },
  {
   "cell_type": "code",
   "execution_count": null,
   "metadata": {},
   "outputs": [],
   "source": [
    "model_data"
   ]
  },
  {
   "cell_type": "code",
   "execution_count": null,
   "metadata": {},
   "outputs": [],
   "source": [
    "x_val = model_data[\"age\"].copy()\n",
    "x_val_log = x_val.apply(lambda x: np.log(x))\n",
    "plt.hist(x_val_log, color='grey')\n",
    "plt.ylabel('Counts')\n",
    "plt.xlabel('age')\n",
    "plt.plot()"
   ]
  },
  {
   "cell_type": "code",
   "execution_count": null,
   "metadata": {},
   "outputs": [],
   "source": [
    "x_val = model_data[\"games_played_perc\"].copy()\n",
    "x_val_log = x_val.apply(lambda x: np.log2(x))\n",
    "plt.hist(x_val_log, color='grey')\n",
    "plt.ylabel('Counts')\n",
    "plt.xlabel('games')\n",
    "plt.plot()"
   ]
  },
  {
   "cell_type": "code",
   "execution_count": null,
   "metadata": {},
   "outputs": [],
   "source": [
    "x_val = model_data[\"games_started_perc\"].copy()\n",
    "x_val_sqrt = x_val.apply(lambda x: np.sqrt(x))\n",
    "# for x_log in x_val_log:\n",
    "#     print(x_log)\n",
    "plt.hist(x_val_sqrt, color='grey')\n",
    "plt.ylabel('Counts')\n",
    "plt.xlabel('games_started_perc')\n",
    "plt.plot()"
   ]
  },
  {
   "cell_type": "code",
   "execution_count": null,
   "metadata": {},
   "outputs": [],
   "source": [
    "model_data[\"WS48\"].describe()"
   ]
  },
  {
   "cell_type": "code",
   "execution_count": null,
   "metadata": {},
   "outputs": [],
   "source": [
    "x_val = model_data[\"WS48\"].copy()\n",
    "plt.hist(x_val, color='grey')\n",
    "plt.ylabel('Counts')\n",
    "plt.xlabel('WS48')\n",
    "plt.plot()"
   ]
  },
  {
   "cell_type": "code",
   "execution_count": null,
   "metadata": {},
   "outputs": [],
   "source": [
    "model_data[\"PER\"].describe()"
   ]
  },
  {
   "cell_type": "code",
   "execution_count": null,
   "metadata": {},
   "outputs": [],
   "source": [
    "x_val = model_data[\"PER\"].copy()\n",
    "plt.hist(x_val, color='grey')\n",
    "plt.ylabel('Counts')\n",
    "plt.xlabel('PER')\n",
    "plt.plot()"
   ]
  },
  {
   "cell_type": "code",
   "execution_count": null,
   "metadata": {},
   "outputs": [],
   "source": [
    "x_val = model_data[\"team_successes\"].copy()\n",
    "x_val_pow = x_val.apply(lambda x: np.power(x, 3))\n",
    "plt.hist(x_val_pow, color='grey')\n",
    "plt.ylabel('Counts')\n",
    "plt.xlabel('team_successes')\n",
    "plt.plot()"
   ]
  },
  {
   "cell_type": "code",
   "execution_count": null,
   "metadata": {},
   "outputs": [],
   "source": [
    "x_val = model_data[\"player_successes\"].copy()\n",
    "x_val_pow = x_val.apply(lambda x: np.power(x, 3))\n",
    "plt.hist(x_val_pow, color='grey')\n",
    "plt.ylabel('Counts')\n",
    "plt.xlabel('player_successes')\n",
    "plt.plot()"
   ]
  },
  {
   "cell_type": "code",
   "execution_count": null,
   "metadata": {},
   "outputs": [],
   "source": [
    "x_val = model_data[\"avg_minutes_played\"].copy()\n",
    "x_val_log = x_val.apply(lambda x: np.log((1+x)/(1-x)))\n",
    "plt.hist(x_val, color='grey')\n",
    "plt.ylabel('Counts')\n",
    "plt.xlabel('avg_minutes_played')\n",
    "plt.plot()"
   ]
  },
  {
   "cell_type": "code",
   "execution_count": null,
   "metadata": {},
   "outputs": [],
   "source": [
    "reg = smf.ols(formula='np.log(salary_perc) ~ np.log(age) + np.log2(games_played_perc) + np.sqrt(games_started_perc) + WS48 + np.power(team_successes, 3) + np.power(player_successes, 3)', data=model_data)\n",
    "results = reg.fit()\n",
    "print(f'results.summary(): \\n{results.summary()}\\n')"
   ]
  },
  {
   "cell_type": "code",
   "execution_count": null,
   "metadata": {},
   "outputs": [],
   "source": [
    "reg = smf.ols(formula='np.log(salary_perc) ~ np.log(age) + np.log2(games_played_perc) + np.sqrt(games_started_perc) + PER + np.power(team_successes, 3) + np.power(player_successes, 3)', data=model_data)\n",
    "results = reg.fit()\n",
    "print(f'results.summary(): \\n{results.summary()}\\n')"
   ]
  },
  {
   "cell_type": "code",
   "execution_count": null,
   "metadata": {},
   "outputs": [],
   "source": [
    "results_np = sm.OLS(results.model.endog, results.model.exog).fit()"
   ]
  },
  {
   "cell_type": "code",
   "execution_count": null,
   "metadata": {},
   "outputs": [],
   "source": [
    "# test reset\n",
    "reset_test = smd.linear_reset(res=results_np, use_f = True)\n",
    "reset_test"
   ]
  },
  {
   "cell_type": "code",
   "execution_count": null,
   "metadata": {},
   "outputs": [],
   "source": [
    "# WHITE TEST\n",
    "white_test = smd.het_white(results.resid,  results.model.exog)\n",
    "\n",
    "#define labels to use for output of White's test\n",
    "labels = ['Test Statistic', 'Test Statistic p-value', 'F-Statistic', 'F-Test p-value']\n",
    "\n",
    "#print results of White's test\n",
    "print(dict(zip(labels, white_test)))"
   ]
  },
  {
   "cell_type": "code",
   "execution_count": null,
   "metadata": {},
   "outputs": [],
   "source": [
    "# BREUSCH-PAGAN TEST\n",
    "bp_test = smd.het_breuschpagan(results.resid, results.model.exog)\n",
    "#define labels to use for output of BP test\n",
    "labels = ['Test Statistic', 'Test Statistic p-value', 'F-Statistic', 'F-Test p-value']\n",
    "\n",
    "#print results of BP test\n",
    "print(dict(zip(labels, bp_test)))"
   ]
  },
  {
   "cell_type": "code",
   "execution_count": null,
   "metadata": {},
   "outputs": [],
   "source": [
    "# BREUSCH-GODFREY TEST\n",
    "bg_test = smd.acorr_breusch_godfrey(results)\n",
    "\n",
    "#define labels to use for output of BP test\n",
    "labels = ['Test Statistic', 'Test Statistic p-value', 'F-Statistic', 'F-Test p-value']\n",
    "\n",
    "#print results of BP test\n",
    "print(dict(zip(labels, bg_test)))"
   ]
  },
  {
   "cell_type": "code",
   "execution_count": null,
   "metadata": {},
   "outputs": [],
   "source": []
  }
 ],
 "metadata": {
  "kernelspec": {
   "display_name": "NBA",
   "language": "python",
   "name": "python3"
  },
  "language_info": {
   "codemirror_mode": {
    "name": "ipython",
    "version": 3
   },
   "file_extension": ".py",
   "mimetype": "text/x-python",
   "name": "python",
   "nbconvert_exporter": "python",
   "pygments_lexer": "ipython3",
   "version": "3.11.1"
  },
  "orig_nbformat": 4
 },
 "nbformat": 4,
 "nbformat_minor": 2
}
