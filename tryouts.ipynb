{
 "cells": [
  {
   "cell_type": "code",
   "execution_count": 11,
   "metadata": {},
   "outputs": [],
   "source": [
    "import pandas as pd\n",
    "import pickle"
   ]
  },
  {
   "cell_type": "code",
   "execution_count": 12,
   "metadata": {},
   "outputs": [],
   "source": [
    "with open('./data/cleaned_data/players_advanced_stats.pickle', 'rb') as adv_stats:\n",
    "    players_advanced_stats = pickle.load(adv_stats)"
   ]
  },
  {
   "cell_type": "code",
   "execution_count": 13,
   "metadata": {},
   "outputs": [],
   "source": [
    "with open('./data/cleaned_data/players_stats.pickle', 'rb') as play_stats:\n",
    "    players_stats = pickle.load(play_stats)"
   ]
  },
  {
   "cell_type": "code",
   "execution_count": 15,
   "metadata": {},
   "outputs": [
    {
     "data": {
      "text/plain": [
       "{'playoffs':               Player  Age   Tm   G  GS    MP         ID\n",
       " 0         Ray Allen*   25  MIL  18  18  42.7  allenra02\n",
       " 1       Rafer Alston   24  MIL   5   0   1.6  alstora01\n",
       " 2       John Amaechi   30  ORL   4   0   7.3  amaecjo01\n",
       " 3     Derek Anderson   26  SAS   7   7  27.7  anderde01\n",
       " 4       Greg Anthony   33  POR   2   0   8.5  anthogr01\n",
       " ..               ...  ...  ...  ..  ..   ...        ...\n",
       " 185   Jason Williams   25  SAC   8   8  23.9  willija02\n",
       " 186  Jerome Williams   27  TOR  11   0  14.9  willije01\n",
       " 187   Monty Williams   29  ORL   3   0   4.7  willimo01\n",
       " 188   Scott Williams   32  MIL  17  17  22.2  willisc01\n",
       " 189      Wang Zhizhi   23  DAL   5   0   4.6  zhizhwa01\n",
       " \n",
       " [190 rows x 7 columns],\n",
       " 'leagues':                   Player  Age   Tm   G  GS    MP         ID\n",
       " 0     Mahmoud Abdul-Rauf   31  MEM  41   0  11.9  abdulma02\n",
       " 1      Tariq Abdul-Wahad   26  DEN  29  12  14.5  abdulta01\n",
       " 2    Shareef Abdur-Rahim   24  MEM  81  81  40.0  abdursh01\n",
       " 3         Cory Alexander   27  ORL  26   0   8.7  alexaco01\n",
       " 4     Courtney Alexander   23  WAS  65  24  21.3  alexaco02\n",
       " ..                   ...  ...  ...  ..  ..   ...        ...\n",
       " 532        David Wingate   37  OKC   1   0   9.0  wingada01\n",
       " 533     Rubén Wolkowyski   27  OKC  34   1   9.0  wolkoru01\n",
       " 534    Metta World Peace   21  CHI  76  74  31.1  artesro01\n",
       " 535      Lorenzen Wright   25  ATL  71  46  28.0  wrighlo02\n",
       " 536          Wang Zhizhi   23  DAL   5   0   7.6  zhizhwa01\n",
       " \n",
       " [441 rows x 7 columns]}"
      ]
     },
     "execution_count": 15,
     "metadata": {},
     "output_type": "execute_result"
    }
   ],
   "source": [
    "players_stats[2001]"
   ]
  },
  {
   "cell_type": "code",
   "execution_count": 14,
   "metadata": {},
   "outputs": [
    {
     "data": {
      "text/plain": [
       "{'playoffs':               Player   Tm   G   PER   WS         ID\n",
       " 0         Ray Allen*  MIL  18  23.7  3.6  allenra02\n",
       " 1       Rafer Alston  MIL   5 -14.2 -0.1  alstora01\n",
       " 2       John Amaechi  ORL   4  19.4  0.1  amaecjo01\n",
       " 3     Derek Anderson  SAS   7   4.3 -0.3  anderde01\n",
       " 4       Greg Anthony  POR   2   2.6 -0.1  anthogr01\n",
       " ..               ...  ...  ..   ...  ...        ...\n",
       " 185   Jason Williams  SAC   8  10.4  0.2  willija02\n",
       " 186  Jerome Williams  TOR  11  15.1  0.5  willije01\n",
       " 187   Monty Williams  ORL   3  28.3  0.1  willimo01\n",
       " 188   Scott Williams  MIL  17  17.6  1.2  willisc01\n",
       " 189      Wang Zhizhi  DAL   5  16.3  0.0  zhizhwa01\n",
       " \n",
       " [190 rows x 6 columns],\n",
       " 'leagues':                   Player   Tm   G   PER   WS         ID\n",
       " 0     Mahmoud Abdul-Rauf  MEM  41  16.7  0.7  abdulma02\n",
       " 1      Tariq Abdul-Wahad  DEN  29   5.8 -0.4  abdulta01\n",
       " 2    Shareef Abdur-Rahim  MEM  81  19.1  8.5  abdursh01\n",
       " 3         Cory Alexander  ORL  26   6.3 -0.1  alexaco01\n",
       " 4     Courtney Alexander  WAS  65  11.6  0.8  alexaco02\n",
       " ..                   ...  ...  ..   ...  ...        ...\n",
       " 532        David Wingate  OKC   1  35.8  0.1  wingada01\n",
       " 533     Rubén Wolkowyski  OKC  34   6.4 -0.1  wolkoru01\n",
       " 534    Metta World Peace  CHI  76  13.6  1.9  artesro01\n",
       " 535      Lorenzen Wright  ATL  71  15.7  3.2  wrighlo02\n",
       " 536          Wang Zhizhi  DAL   5  14.9  0.1  zhizhwa01\n",
       " \n",
       " [441 rows x 6 columns]}"
      ]
     },
     "execution_count": 14,
     "metadata": {},
     "output_type": "execute_result"
    }
   ],
   "source": [
    "players_advanced_stats[2001]"
   ]
  },
  {
   "cell_type": "code",
   "execution_count": null,
   "metadata": {},
   "outputs": [],
   "source": [
    "def player_efficiency(player_id: str, game_types: list, players_stats: pd.DataFrame, players_advanced_stats: pd.DataFrame):\n",
    "    \"\"\"Return Player Efficiency Rating for each player\"\"\"\n",
    "    minutes_played = 0\n",
    "    efficiency = 0\n",
    "    efficiency_x_minutes = 0\n",
    "    efficiency_total = 0\n",
    "    for game_type in game_types:\n",
    "        try:\n",
    "            minutes_played = players_stats[game_type].query(f\"ID == '{player_id}'\")[\"MP\"].iloc[0]\n",
    "            efficiency = players_advanced_stats[game_type].query(f\"ID == '{player_id}'\")[\"PER\"].iloc[0]\n",
    "\n",
    "            efficiency_x_minutes += efficiency * minutes_played\n",
    "        except:\n",
    "            pass\n",
    "\n",
    "    if minutes_played != 0:\n",
    "        efficiency_total = round((efficiency_x_minutes/minutes_played), 3)\n",
    "    else:\n",
    "        efficiency_total = 0\n",
    "\n",
    "    return efficiency_total"
   ]
  },
  {
   "cell_type": "code",
   "execution_count": null,
   "metadata": {},
   "outputs": [],
   "source": [
    "stats = {}\n",
    "stats_columns = [\"ID\", \"salary_perc\", \"last_year_of_contract\", \"age\", \"games_played_perc\", \"games_started_perc\", \"minutes_played\", \"avg_minutes_played\", \"WS48\", \"PER\", \"team_successes\",\n",
    "              \"defensive\", \"most_improved\", \"most_valuable\", \"most_valuable_finals\", \"sixth_man\", \"all_league\", \"all_def\"]"
   ]
  },
  {
   "cell_type": "code",
   "execution_count": null,
   "metadata": {},
   "outputs": [],
   "source": [
    "for year in years:\n",
    "    player_list = set(players_stats[year][\"playoffs\"][\"ID\"].values.tolist() + players_stats[year][\"leagues\"][\"ID\"].values.tolist())\n",
    "    stats[year] = pd.DataFrame(columns=stats_columns)\n",
    "    stats[year]['ID'] = [player for player in player_list]\n",
    "    stats[year] = stats[year].set_index(\"ID\")\n",
    "    stats[year]['last_year_of_contract'] = 'noinfo'\n",
    "    stats[year] = stats[year].fillna(0)\n",
    "    for player_id in player_list:\n",
    "        stats[year].loc[[f'{player_id}'], ['WS48']] = winshares_per48(player_id, game_types, players_stats[year], players_advanced_stats[year])\n",
    "        stats[year].loc[[f'{player_id}'], ['PER']] = player_efficiency(player_id, game_types, players_stats[year], players_advanced_stats[year])"
   ]
  }
 ],
 "metadata": {
  "kernelspec": {
   "display_name": "NBA",
   "language": "python",
   "name": "python3"
  },
  "language_info": {
   "codemirror_mode": {
    "name": "ipython",
    "version": 3
   },
   "file_extension": ".py",
   "mimetype": "text/x-python",
   "name": "python",
   "nbconvert_exporter": "python",
   "pygments_lexer": "ipython3",
   "version": "3.11.1"
  },
  "orig_nbformat": 4
 },
 "nbformat": 4,
 "nbformat_minor": 2
}
