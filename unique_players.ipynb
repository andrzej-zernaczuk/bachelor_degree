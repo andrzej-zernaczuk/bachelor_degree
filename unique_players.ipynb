{
 "cells": [
  {
   "cell_type": "code",
   "execution_count": 1,
   "metadata": {},
   "outputs": [],
   "source": [
    "import pandas as pd"
   ]
  },
  {
   "cell_type": "code",
   "execution_count": 18,
   "metadata": {},
   "outputs": [
    {
     "name": "stdout",
     "output_type": "stream",
     "text": [
      "Empty DataFrame\n",
      "Columns: [player_id]\n",
      "Index: []\n"
     ]
    }
   ],
   "source": [
    "unique_players = pd.DataFrame(columns=[\"player_id\"])\n",
    "print(unique_players)"
   ]
  },
  {
   "cell_type": "code",
   "execution_count": 23,
   "metadata": {},
   "outputs": [
    {
     "name": "stdout",
     "output_type": "stream",
     "text": [
      "Empty DataFrame\n",
      "Columns: [player_id]\n",
      "Index: []\n"
     ]
    }
   ],
   "source": [
    "years = range(2001, 2023)\n",
    "for year in years:\n",
    "    with open(f'./stats/player_stats/players_stats_{year}.csv', 'r', encoding=\"utf-8\") as file:\n",
    "        df = pd.read_csv(file)\n",
    "        ids = df[\"Player-additional\"]\n",
    "        "
   ]
  },
  {
   "cell_type": "code",
   "execution_count": null,
   "metadata": {},
   "outputs": [],
   "source": []
  }
 ],
 "metadata": {
  "kernelspec": {
   "display_name": "NBA",
   "language": "python",
   "name": "python3"
  },
  "language_info": {
   "codemirror_mode": {
    "name": "ipython",
    "version": 3
   },
   "file_extension": ".py",
   "mimetype": "text/x-python",
   "name": "python",
   "nbconvert_exporter": "python",
   "pygments_lexer": "ipython3",
   "version": "3.11.1"
  },
  "orig_nbformat": 4
 },
 "nbformat": 4,
 "nbformat_minor": 2
}
