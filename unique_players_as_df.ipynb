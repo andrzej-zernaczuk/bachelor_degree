{
 "cells": [
  {
   "cell_type": "code",
   "execution_count": 1,
   "metadata": {},
   "outputs": [],
   "source": [
    "import pandas as pd"
   ]
  },
  {
   "cell_type": "code",
   "execution_count": 2,
   "metadata": {},
   "outputs": [],
   "source": [
    "years = list(range(2001, 2024))"
   ]
  },
  {
   "cell_type": "code",
   "execution_count": 3,
   "metadata": {},
   "outputs": [],
   "source": [
    "distinct_players = pd.DataFrame(columns=[\"ID\", \"player\"])"
   ]
  },
  {
   "cell_type": "code",
   "execution_count": 4,
   "metadata": {},
   "outputs": [],
   "source": [
    "def unique_players(year: int):\n",
    "    with open(f'./data/players_stats/leagues/players_stats_{year}.csv', 'r', encoding=\"utf-8\") as file:\n",
    "        df = pd.read_csv(file)\n",
    "    \n",
    "    players = pd.DataFrame(columns=[\"ID\", \"player\"])\n",
    "    \n",
    "    players[\"ID\"] = df[\"Player-additional\"].values.tolist()\n",
    "    players[\"player\"] = df[\"Player\"].values.tolist()\n",
    "\n",
    "    return players"
   ]
  },
  {
   "cell_type": "code",
   "execution_count": 5,
   "metadata": {},
   "outputs": [],
   "source": [
    "for year in years:\n",
    "    distinct_players = pd.concat([distinct_players, unique_players(year)], ignore_index=True)"
   ]
  },
  {
   "cell_type": "code",
   "execution_count": 6,
   "metadata": {},
   "outputs": [
    {
     "name": "stdout",
     "output_type": "stream",
     "text": [
      "              ID               player\n",
      "0      abdulma02   Mahmoud Abdul-Rauf\n",
      "1      abdulta01    Tariq Abdul-Wahad\n",
      "2      abdursh01  Shareef Abdur-Rahim\n",
      "3      alexaco01       Cory Alexander\n",
      "4      alexaco02   Courtney Alexander\n",
      "...          ...                  ...\n",
      "13922  youngth01       Thaddeus Young\n",
      "13923  youngtr01           Trae Young\n",
      "13924  yurtsom01       Omer Yurtseven\n",
      "13925  zelleco01          Cody Zeller\n",
      "13926  zubaciv01          Ivica Zubac\n",
      "\n",
      "[13927 rows x 2 columns]\n"
     ]
    }
   ],
   "source": [
    "print(distinct_players)"
   ]
  },
  {
   "cell_type": "code",
   "execution_count": 7,
   "metadata": {},
   "outputs": [],
   "source": [
    "with open(f'./data/transformed_data/distinct_players.csv', 'r', encoding=\"utf-8\") as file:\n",
    "    old_players = pd.read_csv(file)"
   ]
  },
  {
   "cell_type": "code",
   "execution_count": 8,
   "metadata": {},
   "outputs": [
    {
     "data": {
      "text/html": [
       "<div>\n",
       "<style scoped>\n",
       "    .dataframe tbody tr th:only-of-type {\n",
       "        vertical-align: middle;\n",
       "    }\n",
       "\n",
       "    .dataframe tbody tr th {\n",
       "        vertical-align: top;\n",
       "    }\n",
       "\n",
       "    .dataframe thead th {\n",
       "        text-align: right;\n",
       "    }\n",
       "</style>\n",
       "<table border=\"1\" class=\"dataframe\">\n",
       "  <thead>\n",
       "    <tr style=\"text-align: right;\">\n",
       "      <th></th>\n",
       "      <th>youngsa01</th>\n",
       "      <th>gibsojo01</th>\n",
       "      <th>johnske04</th>\n",
       "      <th>feliccr01</th>\n",
       "      <th>gudurma01</th>\n",
       "      <th>drewbr01</th>\n",
       "      <th>clarkia01</th>\n",
       "      <th>pleisti01</th>\n",
       "      <th>maneka01</th>\n",
       "      <th>whittsh01</th>\n",
       "      <th>...</th>\n",
       "      <th>wesleda01</th>\n",
       "      <th>murphtr01</th>\n",
       "      <th>gaffoda01</th>\n",
       "      <th>hoardja01</th>\n",
       "      <th>willima05</th>\n",
       "      <th>oliveca01</th>\n",
       "      <th>harrimi01</th>\n",
       "      <th>ketnela01</th>\n",
       "      <th>goodedr01</th>\n",
       "      <th>buforro01</th>\n",
       "    </tr>\n",
       "  </thead>\n",
       "  <tbody>\n",
       "  </tbody>\n",
       "</table>\n",
       "<p>0 rows × 2276 columns</p>\n",
       "</div>"
      ],
      "text/plain": [
       "Empty DataFrame\n",
       "Columns: [youngsa01, gibsojo01, johnske04, feliccr01, gudurma01, drewbr01, clarkia01, pleisti01, maneka01, whittsh01, plumlma01, hayesja01, carteje01, mcdanja01, youngtr01, denglu01, bolbo01, willijo03, buchash01, roddyda01, jerebjo01, murraro01, ellenhe01, alexaco01, mitchto03, agerma01, sanchpe01, sloando01, grantpa01, babbilu01, evansja02, quinole01, shirlpa01, hughela01, fraziti01, pankoan01, jeffeot01, cheatzy01, randoan01, rillegr01, loftoza01, maconda01, vromaja01, johnsam01, townska01, wisemja01, millemi01, priceaj01, murrake02, garnech01, willico02, strusma01, okpalkz01, whiteok01, collini01, hamilze01, milleol01, pasecan01, colsobo01, johnsty01, knighna01, jonespe01, planizo01, smithis01, lenarvo01, browner01, georgde01, rautian01, fordal03, eddieja01, caulewi01, hearnre01, poseyja01, caldwke01, dampier01, douglsh01, derrima01, powelno01, sambch01, tskitni01, bakerro01, teletmi01, mooremi01, hylanbo01, coleno01, brownst02, murrade01, smithgr02, jonesdw02, hoibefr01, thompja02, haganas01, gibsota01, basdeed01, butleji01, gortama01, jonesja04, willier01, glovedi01, tsakaja01, ...]\n",
       "Index: []\n",
       "\n",
       "[0 rows x 2276 columns]"
      ]
     },
     "execution_count": 8,
     "metadata": {},
     "output_type": "execute_result"
    }
   ],
   "source": [
    "old_players"
   ]
  },
  {
   "cell_type": "code",
   "execution_count": 9,
   "metadata": {},
   "outputs": [],
   "source": [
    "filtered_df = distinct_players.drop_duplicates(subset='ID', keep=\"first\")"
   ]
  },
  {
   "cell_type": "code",
   "execution_count": 10,
   "metadata": {},
   "outputs": [
    {
     "data": {
      "text/html": [
       "<div>\n",
       "<style scoped>\n",
       "    .dataframe tbody tr th:only-of-type {\n",
       "        vertical-align: middle;\n",
       "    }\n",
       "\n",
       "    .dataframe tbody tr th {\n",
       "        vertical-align: top;\n",
       "    }\n",
       "\n",
       "    .dataframe thead th {\n",
       "        text-align: right;\n",
       "    }\n",
       "</style>\n",
       "<table border=\"1\" class=\"dataframe\">\n",
       "  <thead>\n",
       "    <tr style=\"text-align: right;\">\n",
       "      <th></th>\n",
       "      <th>ID</th>\n",
       "      <th>player</th>\n",
       "    </tr>\n",
       "  </thead>\n",
       "  <tbody>\n",
       "    <tr>\n",
       "      <th>0</th>\n",
       "      <td>abdulma02</td>\n",
       "      <td>Mahmoud Abdul-Rauf</td>\n",
       "    </tr>\n",
       "    <tr>\n",
       "      <th>1</th>\n",
       "      <td>abdulta01</td>\n",
       "      <td>Tariq Abdul-Wahad</td>\n",
       "    </tr>\n",
       "    <tr>\n",
       "      <th>2</th>\n",
       "      <td>abdursh01</td>\n",
       "      <td>Shareef Abdur-Rahim</td>\n",
       "    </tr>\n",
       "    <tr>\n",
       "      <th>3</th>\n",
       "      <td>alexaco01</td>\n",
       "      <td>Cory Alexander</td>\n",
       "    </tr>\n",
       "    <tr>\n",
       "      <th>4</th>\n",
       "      <td>alexaco02</td>\n",
       "      <td>Courtney Alexander</td>\n",
       "    </tr>\n",
       "    <tr>\n",
       "      <th>...</th>\n",
       "      <td>...</td>\n",
       "      <td>...</td>\n",
       "    </tr>\n",
       "    <tr>\n",
       "      <th>13903</th>\n",
       "      <td>willija06</td>\n",
       "      <td>Jalen Williams</td>\n",
       "    </tr>\n",
       "    <tr>\n",
       "      <th>13904</th>\n",
       "      <td>willija07</td>\n",
       "      <td>Jaylin Williams</td>\n",
       "    </tr>\n",
       "    <tr>\n",
       "      <th>13905</th>\n",
       "      <td>willije02</td>\n",
       "      <td>Jeenathan Williams</td>\n",
       "    </tr>\n",
       "    <tr>\n",
       "      <th>13907</th>\n",
       "      <td>willima07</td>\n",
       "      <td>Mark Williams</td>\n",
       "    </tr>\n",
       "    <tr>\n",
       "      <th>13910</th>\n",
       "      <td>willivi01</td>\n",
       "      <td>Vince Williams Jr.</td>\n",
       "    </tr>\n",
       "  </tbody>\n",
       "</table>\n",
       "<p>2276 rows × 2 columns</p>\n",
       "</div>"
      ],
      "text/plain": [
       "              ID               player\n",
       "0      abdulma02   Mahmoud Abdul-Rauf\n",
       "1      abdulta01    Tariq Abdul-Wahad\n",
       "2      abdursh01  Shareef Abdur-Rahim\n",
       "3      alexaco01       Cory Alexander\n",
       "4      alexaco02   Courtney Alexander\n",
       "...          ...                  ...\n",
       "13903  willija06       Jalen Williams\n",
       "13904  willija07      Jaylin Williams\n",
       "13905  willije02   Jeenathan Williams\n",
       "13907  willima07        Mark Williams\n",
       "13910  willivi01   Vince Williams Jr.\n",
       "\n",
       "[2276 rows x 2 columns]"
      ]
     },
     "execution_count": 10,
     "metadata": {},
     "output_type": "execute_result"
    }
   ],
   "source": [
    "filtered_df"
   ]
  },
  {
   "cell_type": "code",
   "execution_count": null,
   "metadata": {},
   "outputs": [],
   "source": []
  }
 ],
 "metadata": {
  "kernelspec": {
   "display_name": "NBA",
   "language": "python",
   "name": "python3"
  },
  "language_info": {
   "codemirror_mode": {
    "name": "ipython",
    "version": 3
   },
   "file_extension": ".py",
   "mimetype": "text/x-python",
   "name": "python",
   "nbconvert_exporter": "python",
   "pygments_lexer": "ipython3",
   "version": "3.11.1"
  },
  "orig_nbformat": 4
 },
 "nbformat": 4,
 "nbformat_minor": 2
}
